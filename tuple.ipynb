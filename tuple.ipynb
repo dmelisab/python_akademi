{
 "cells": [
  {
   "cell_type": "markdown",
   "metadata": {},
   "source": [
    "**Tuple** \n",
    "\n",
    "* İndex ile erişilebilir. (Ordered yani sıralıdır.)\n",
    "* Tuple değiştirilemezler(immutable). Oluşturulduktan sonra eleman eklenemez.\n",
    "* () parantez içerisinde tanımlanır. Elemanlar virgüllerle ayrılır. \n",
    "* Farklı veri tipleri içerebilir.(float, string, etc)\n",
    "* Duplicate veri olabilir. Aynı eleman birden fazla yer alabilir."
   ]
  },
  {
   "cell_type": "markdown",
   "metadata": {},
   "source": [
    "Append, extend, insert, clear etc. yok."
   ]
  },
  {
   "cell_type": "code",
   "execution_count": 1,
   "metadata": {},
   "outputs": [],
   "source": [
    "int_tuple = (1,3,5)\n",
    "string_tuple = (\"Pthon\", \"Kotlin\", \"JavaScript\", \"Flutter\")\n",
    "mix_tuple = (1, 6, 4, 1, \"Python\", True, 13.4)"
   ]
  },
  {
   "cell_type": "code",
   "execution_count": 2,
   "metadata": {},
   "outputs": [
    {
     "name": "stdout",
     "output_type": "stream",
     "text": [
      "(1, 6, 4, 1, 'Python', True, 13.4)\n"
     ]
    }
   ],
   "source": [
    "print(mix_tuple)"
   ]
  },
  {
   "cell_type": "code",
   "execution_count": 3,
   "metadata": {},
   "outputs": [
    {
     "data": {
      "text/plain": [
       "tuple"
      ]
     },
     "execution_count": 3,
     "metadata": {},
     "output_type": "execute_result"
    }
   ],
   "source": [
    "type(mix_tuple)"
   ]
  },
  {
   "cell_type": "markdown",
   "metadata": {},
   "source": [
    "tipini bilmediğimiz dosyanın tipini type ile bulabiliriz."
   ]
  },
  {
   "cell_type": "markdown",
   "metadata": {},
   "source": [
    "resim ekleme:\n",
    "# ![title](keywords.png)"
   ]
  },
  {
   "cell_type": "code",
   "execution_count": 4,
   "metadata": {},
   "outputs": [
    {
     "data": {
      "text/plain": [
       "tuple"
      ]
     },
     "execution_count": 4,
     "metadata": {},
     "output_type": "execute_result"
    }
   ],
   "source": [
    "#değişkenleri çoklu atama bir tuple örneğidir.\n",
    "\n",
    "name, age, salary = \"Aysel\", 10, 1000 \n",
    "\n",
    "my_tuple = \"Buse\", 23, 7809\n",
    "#ile aynı ifade şudur:\n",
    "my_tuple = (\"Buse\", 23, 7809)\n",
    "\n",
    "type(my_tuple)"
   ]
  },
  {
   "cell_type": "code",
   "execution_count": 5,
   "metadata": {},
   "outputs": [
    {
     "name": "stdout",
     "output_type": "stream",
     "text": [
      "Buse 23 7809\n"
     ]
    }
   ],
   "source": [
    "name, age, salary = my_tuple\n",
    "\n",
    "print(name, age, salary)"
   ]
  }
 ],
 "metadata": {
  "kernelspec": {
   "display_name": "Python 3.10.2 64-bit",
   "language": "python",
   "name": "python3"
  },
  "language_info": {
   "codemirror_mode": {
    "name": "ipython",
    "version": 3
   },
   "file_extension": ".py",
   "mimetype": "text/x-python",
   "name": "python",
   "nbconvert_exporter": "python",
   "pygments_lexer": "ipython3",
   "version": "3.10.2"
  },
  "orig_nbformat": 4,
  "vscode": {
   "interpreter": {
    "hash": "26de051ba29f2982a8de78e945f0abaf191376122a1563185a90213a26c5da77"
   }
  }
 },
 "nbformat": 4,
 "nbformat_minor": 2
}
