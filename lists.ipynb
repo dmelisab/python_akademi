{
 "cells": [
  {
   "cell_type": "markdown",
   "metadata": {},
   "source": [
    "Slicing"
   ]
  },
  {
   "cell_type": "code",
   "execution_count": 1,
   "metadata": {},
   "outputs": [
    {
     "name": "stdout",
     "output_type": "stream",
     "text": [
      "['Bilge', 26, 'AI & ML Engineer', True, 15000.34, 'Menekşe', 'Merve', 'Şule']\n"
     ]
    }
   ],
   "source": [
    "my_list = [\"Bilge\", 26, \"AI & ML Engineer\", True, 15000.34, 'Menekşe', 'Merve', 'Şule']\n",
    "\n",
    "print(my_list)"
   ]
  },
  {
   "cell_type": "code",
   "execution_count": null,
   "metadata": {},
   "outputs": [],
   "source": [
    "#ilk dört elemanı ekrana yazalım\n",
    "print(my_list[0:4])"
   ]
  },
  {
   "cell_type": "code",
   "execution_count": 2,
   "metadata": {},
   "outputs": [
    {
     "name": "stdout",
     "output_type": "stream",
     "text": [
      "['Bilge', 'AI & ML Engineer', 15000.34, 'Merve']\n"
     ]
    }
   ],
   "source": [
    "#her iki elemanda bir atlayarak ekrana bas\n",
    "print(my_list[::2])"
   ]
  },
  {
   "cell_type": "code",
   "execution_count": 3,
   "metadata": {},
   "outputs": [
    {
     "name": "stdout",
     "output_type": "stream",
     "text": [
      "['AI & ML Engineer', True, 15000.34]\n"
     ]
    }
   ],
   "source": [
    "#2 ile 5 index aralığındaki elemanları basalım\n",
    "print(my_list[2:5])\n",
    "\n",
    "#range ile aynı mantık, yalnızca syntax farklı"
   ]
  },
  {
   "cell_type": "code",
   "execution_count": 5,
   "metadata": {},
   "outputs": [
    {
     "name": "stdout",
     "output_type": "stream",
     "text": [
      "['AI & ML Engineer', 15000.34, 'Merve']\n"
     ]
    }
   ],
   "source": [
    "#2 ile 5 index aralığındaki elemanları basalım\n",
    "print(my_list[2:7:2])\n",
    "#iki atlayarak"
   ]
  },
  {
   "cell_type": "code",
   "execution_count": 7,
   "metadata": {},
   "outputs": [
    {
     "name": "stdout",
     "output_type": "stream",
     "text": [
      "['Şule', 'Merve', 'Menekşe', 15000.34, True, 'AI & ML Engineer', 26, 'Bilge']\n"
     ]
    }
   ],
   "source": [
    "#listeyi tersten yazdıralım\n",
    "print(my_list[::-1])"
   ]
  },
  {
   "cell_type": "markdown",
   "metadata": {},
   "source": [
    "Döngüler İle Listenin Elemanlarını Yazdırma"
   ]
  },
  {
   "cell_type": "code",
   "execution_count": 8,
   "metadata": {},
   "outputs": [
    {
     "name": "stdout",
     "output_type": "stream",
     "text": [
      "Bilge\n",
      "26\n",
      "AI & ML Engineer\n",
      "True\n",
      "15000.34\n",
      "Menekşe\n",
      "Merve\n",
      "Şule\n"
     ]
    }
   ],
   "source": [
    "my_list = [\"Bilge\", 26, \"AI & ML Engineer\", True, 15000.34, 'Menekşe', 'Merve', 'Şule']\n",
    "\n",
    "for item in my_list:\n",
    "    print(item)"
   ]
  },
  {
   "cell_type": "markdown",
   "metadata": {},
   "source": [
    "Elemanları yan yana gösterelim"
   ]
  },
  {
   "cell_type": "code",
   "execution_count": 9,
   "metadata": {},
   "outputs": [
    {
     "name": "stdout",
     "output_type": "stream",
     "text": [
      "Bilge  -  26  -  AI & ML Engineer  -  True  -  15000.34  -  Menekşe  -  Merve  -  Şule  -  "
     ]
    }
   ],
   "source": [
    "for item in my_list:\n",
    "    print(item, end=\"  -  \")"
   ]
  },
  {
   "cell_type": "markdown",
   "metadata": {},
   "source": [
    "İndexler üzerinden erişim"
   ]
  },
  {
   "cell_type": "code",
   "execution_count": 10,
   "metadata": {},
   "outputs": [
    {
     "name": "stdout",
     "output_type": "stream",
     "text": [
      "0. index değeri: Bilge\n",
      "1. index değeri: 26\n",
      "2. index değeri: AI & ML Engineer\n",
      "3. index değeri: True\n",
      "4. index değeri: 15000.34\n",
      "5. index değeri: Menekşe\n",
      "6. index değeri: Merve\n",
      "7. index değeri: Şule\n"
     ]
    }
   ],
   "source": [
    "for i in range(0, len(my_list)):\n",
    "    print(f\"{i}. index değeri: {my_list[i]}\")"
   ]
  },
  {
   "cell_type": "markdown",
   "metadata": {},
   "source": [
    "Listelere Eleman Ekleme"
   ]
  },
  {
   "cell_type": "markdown",
   "metadata": {},
   "source": [
    "Remember: indexler 0'dan başlar"
   ]
  },
  {
   "cell_type": "markdown",
   "metadata": {},
   "source": [
    "*append()\n",
    "*insert()\n",
    "*extend()\n",
    "\n",
    "append() -> Listenin sonuna eklenir."
   ]
  },
  {
   "cell_type": "code",
   "execution_count": 11,
   "metadata": {},
   "outputs": [
    {
     "name": "stdout",
     "output_type": "stream",
     "text": [
      "['Ayşe Nur', 26, 'AI & ML Engineer', True, 15000.34, 'Menekşe', 'Merve', 'Şule']\n",
      "['Ayşe Nur', 26, 'AI & ML Engineer', True, 15000.34, 'Menekşe', 'Merve', 'Şule', 'Edanur']\n"
     ]
    }
   ],
   "source": [
    "my_list = [\"Ayşe Nur\", 26, \"AI & ML Engineer\", True, 15000.34, \"Menekşe\", \"Merve\", \"Şule\"]\n",
    "print(my_list)\n",
    "\n",
    "my_list.append(\"Edanur\")\n",
    "print(my_list)"
   ]
  },
  {
   "cell_type": "markdown",
   "metadata": {},
   "source": [
    "insert() -> istenilen indexte konumlandırma yapar"
   ]
  },
  {
   "cell_type": "code",
   "execution_count": 14,
   "metadata": {},
   "outputs": [
    {
     "name": "stdout",
     "output_type": "stream",
     "text": [
      "['Betül', 'Ayşe Nur', 26, 'AI & ML Engineer', True, 15000.34, 'Menekşe', 'Merve', 'Şule', 'Edanur']\n",
      "['Betül', 'Betül', 'Ayşe Nur', 26, 'AI & ML Engineer', True, 15000.34, 'Menekşe', 'Merve', 'Şule', 'Edanur']\n",
      "['Betül', 'Betül', 'Betül', 'Ayşe Nur', 26, 'AI & ML Engineer', True, 15000.34, 'Menekşe', 'Merve', 'Şule', 'Edanur']\n"
     ]
    }
   ],
   "source": [
    "print(my_list)\n",
    "\n",
    "my_list.insert(0, \"Betül\")\n",
    "print(my_list)\n",
    "\n",
    "my_list.insert(1, \"Betül\")\n",
    "print(my_list)"
   ]
  },
  {
   "cell_type": "markdown",
   "metadata": {},
   "source": [
    "extend() --> Listenin sonuna ekleme yapar. Birden fazla eleman eklemeye izin verir."
   ]
  },
  {
   "cell_type": "code",
   "execution_count": 17,
   "metadata": {},
   "outputs": [
    {
     "name": "stdout",
     "output_type": "stream",
     "text": [
      "['Ayşe Nur', 26, 'AI & ML Engineer', True, 15000.34, 'Menekşe', 'Merve', 'Şule']\n",
      "['Ayşe Nur', 26, 'AI & ML Engineer', True, 15000.34, 'Menekşe', 'Merve', 'Şule', 1, 2, 3, 4]\n"
     ]
    }
   ],
   "source": [
    "my_list = [\"Ayşe Nur\", 26, \"AI & ML Engineer\", True, 15000.34, \"Menekşe\", \"Merve\", \"Şule\"]\n",
    "print(my_list)\n",
    "\n",
    "# my_list.extend([1])\n",
    "# print(my_list)\n",
    "\n",
    "my_list.extend([1,2,3,4])\n",
    "print(my_list)"
   ]
  },
  {
   "cell_type": "code",
   "execution_count": 18,
   "metadata": {},
   "outputs": [
    {
     "name": "stdout",
     "output_type": "stream",
     "text": [
      "['Ayşe Nur', 26, 'AI & ML Engineer', True, 15000.34, 'Menekşe', 'Merve', 'Şule']\n",
      "['Ayşe Nur', 26, 'AI & ML Engineer', True, 15000.34, 'Menekşe', 'Merve', 'Şule', 1, 2, 3, 4, [5, 6, 7]]\n"
     ]
    }
   ],
   "source": [
    "my_list = [\"Ayşe Nur\", 26, \"AI & ML Engineer\", True, 15000.34, \"Menekşe\", \"Merve\", \"Şule\"]\n",
    "print(my_list)\n",
    "\n",
    "my_list.extend([1,2,3,4, [5, 6, 7]])\n",
    "print(my_list)"
   ]
  },
  {
   "cell_type": "markdown",
   "metadata": {},
   "source": [
    "Liste elemanları üzerinde değişiklik"
   ]
  },
  {
   "cell_type": "code",
   "execution_count": 20,
   "metadata": {},
   "outputs": [
    {
     "name": "stdout",
     "output_type": "stream",
     "text": [
      "Önceki Hali:  [1, 4, 6, 7, 8, 3]\n",
      "Sonraki Hali:  [78, 4, 6, 7, 8, 3]\n"
     ]
    }
   ],
   "source": [
    "my_list = [1, 4, 6, 7, 8, 3]\n",
    "print(\"Önceki Hali: \", my_list)\n",
    "\n",
    "my_list[0] = 78\n",
    "print(\"Sonraki Hali: \", my_list)"
   ]
  },
  {
   "cell_type": "code",
   "execution_count": 21,
   "metadata": {},
   "outputs": [
    {
     "name": "stdout",
     "output_type": "stream",
     "text": [
      "Önceki Hali:  [78, 4, 6, 7, 8, 3]\n",
      "Sonraki Hali:  [78, 12, 13, 14, 8, 3]\n"
     ]
    }
   ],
   "source": [
    "print(\"Önceki Hali: \", my_list)\n",
    "\n",
    "my_list[1:4] = [12, 13, 14]\n",
    "print(\"Sonraki Hali: \", my_list)"
   ]
  },
  {
   "cell_type": "code",
   "execution_count": 22,
   "metadata": {},
   "outputs": [
    {
     "name": "stdout",
     "output_type": "stream",
     "text": [
      "Önceki Hali:  [1, 4, 6, 7, 8, 3]\n"
     ]
    },
    {
     "ename": "IndexError",
     "evalue": "list index out of range",
     "output_type": "error",
     "traceback": [
      "\u001b[1;31m---------------------------------------------------------------------------\u001b[0m",
      "\u001b[1;31mIndexError\u001b[0m                                Traceback (most recent call last)",
      "Cell \u001b[1;32mIn [22], line 6\u001b[0m\n\u001b[0;32m      3\u001b[0m \u001b[38;5;28mprint\u001b[39m(\u001b[38;5;124m\"\u001b[39m\u001b[38;5;124mÖnceki Hali: \u001b[39m\u001b[38;5;124m\"\u001b[39m, my_list)\n\u001b[0;32m      5\u001b[0m \u001b[38;5;28;01mfor\u001b[39;00m item \u001b[38;5;129;01min\u001b[39;00m my_list:\n\u001b[1;32m----> 6\u001b[0m     my_list[i]\n",
      "\u001b[1;31mIndexError\u001b[0m: list index out of range"
     ]
    }
   ],
   "source": [
    "#listenin tüm elemanlarına 1 ekle\n",
    "#HATALI KOD\n",
    "my_list = [1, 4, 6, 7, 8, 3]\n",
    "print(\"Önceki Hali: \", my_list)\n",
    "\n",
    "for item in my_list:\n",
    "    my_list[i]"
   ]
  },
  {
   "cell_type": "code",
   "execution_count": 24,
   "metadata": {},
   "outputs": [
    {
     "name": "stdout",
     "output_type": "stream",
     "text": [
      "Önceki Hali:  [1, 4, 6, 7, 8, 3]\n",
      "Sonraki Hali:  [2, 5, 7, 8, 9, 4]\n"
     ]
    }
   ],
   "source": [
    "#DÜZELTİLMİŞ HALİ\n",
    "\n",
    "my_list = [1, 4, 6, 7, 8, 3]\n",
    "print(\"Önceki Hali: \", my_list)\n",
    "\n",
    "for i in range(0, len(my_list)):\n",
    "    my_list[i] += 1\n",
    "\n",
    "print(\"Sonraki Hali: \", my_list)"
   ]
  },
  {
   "cell_type": "markdown",
   "metadata": {},
   "source": [
    "Listeden Eleman Silme \n",
    "\n",
    "* remove()\n",
    "* pop()\n",
    "* clear()\n",
    "* del()"
   ]
  },
  {
   "cell_type": "markdown",
   "metadata": {},
   "source": [
    "remove() --> ile listeden ilk bulduğu eleman silinir."
   ]
  },
  {
   "cell_type": "code",
   "execution_count": 25,
   "metadata": {},
   "outputs": [],
   "source": [
    "my_list = [0, 1, 2, 3, 4, 5, 6, 7, 8, 9, 10, 11, 12, 13]"
   ]
  },
  {
   "cell_type": "code",
   "execution_count": 29,
   "metadata": {},
   "outputs": [
    {
     "name": "stdout",
     "output_type": "stream",
     "text": [
      "Önceki Hali:  [0, 1, 2, 3, 4, 5, 6, 7, 8, 9, 10, 11, 12, 13]\n",
      "Sonraki Hali:  [0, 2, 3, 4, 5, 6, 7, 8, 9, 10, 11, 12, 13]\n"
     ]
    }
   ],
   "source": [
    "my_list = [0, 1, 2, 3, 4, 5, 6, 7, 8, 9, 10, 11, 12, 13]\n",
    "print(\"Önceki Hali: \", my_list)\n",
    "my_list = [0, 1, 2, 3, 4, 5, 6, 7, 8, 9, 10, 11, 12, 13]\n",
    "my_list.remove(1)\n",
    "print(\"Sonraki Hali: \", my_list)"
   ]
  },
  {
   "cell_type": "markdown",
   "metadata": {},
   "source": [
    "Listede olmayan elemanın silinmesi"
   ]
  },
  {
   "cell_type": "code",
   "execution_count": 31,
   "metadata": {},
   "outputs": [
    {
     "ename": "ValueError",
     "evalue": "list.remove(x): x not in list",
     "output_type": "error",
     "traceback": [
      "\u001b[1;31m---------------------------------------------------------------------------\u001b[0m",
      "\u001b[1;31mValueError\u001b[0m                                Traceback (most recent call last)",
      "Cell \u001b[1;32mIn [31], line 2\u001b[0m\n\u001b[0;32m      1\u001b[0m my_list \u001b[38;5;241m=\u001b[39m [\u001b[38;5;241m0\u001b[39m, \u001b[38;5;241m1\u001b[39m, \u001b[38;5;241m2\u001b[39m, \u001b[38;5;241m3\u001b[39m, \u001b[38;5;241m4\u001b[39m, \u001b[38;5;241m5\u001b[39m, \u001b[38;5;241m6\u001b[39m, \u001b[38;5;241m7\u001b[39m, \u001b[38;5;241m8\u001b[39m, \u001b[38;5;241m9\u001b[39m, \u001b[38;5;241m10\u001b[39m, \u001b[38;5;241m11\u001b[39m, \u001b[38;5;241m12\u001b[39m, \u001b[38;5;241m13\u001b[39m]\n\u001b[1;32m----> 2\u001b[0m my_list\u001b[38;5;241m.\u001b[39mremove(\u001b[38;5;241m100\u001b[39m)\n\u001b[0;32m      3\u001b[0m \u001b[38;5;28mprint\u001b[39m(\u001b[38;5;124m\"\u001b[39m\u001b[38;5;124mSonraki Hali: \u001b[39m\u001b[38;5;124m\"\u001b[39m, my_list)\n",
      "\u001b[1;31mValueError\u001b[0m: list.remove(x): x not in list"
     ]
    }
   ],
   "source": [
    "my_list = [0, 1, 2, 3, 4, 5, 6, 7, 8, 9, 10, 11, 12, 13]\n",
    "my_list.remove(100)\n",
    "print(\"Sonraki Hali: \", my_list)"
   ]
  },
  {
   "cell_type": "markdown",
   "metadata": {},
   "source": [
    "**pop()** --> Herhangi bir index verilmezse listenin son elemanı silinir; index verilirse de ilgili indexteki eleman silinir."
   ]
  },
  {
   "cell_type": "code",
   "execution_count": 32,
   "metadata": {},
   "outputs": [
    {
     "name": "stdout",
     "output_type": "stream",
     "text": [
      "Önceki Hali:  ['Zeynep', 'Öykü', 'Betül', 'İrem', 'Nihal', 'İrem', 'Öykü', 'Öykü']\n",
      "İkinci Durum:  ['Zeynep', 'Öykü', 'Betül', 'İrem', 'Nihal', 'İrem', 'Öykü']\n",
      "Sonraki Hali:  ['Zeynep', 'Öykü', 'İrem', 'Nihal', 'İrem', 'Öykü']\n"
     ]
    }
   ],
   "source": [
    "my_list = [\"Zeynep\", \"Öykü\", \"Betül\", \"İrem\", \"Nihal\", \"İrem\", \"Öykü\", \"Öykü\" ]\n",
    "print(\"Önceki Hali: \", my_list)\n",
    "\n",
    "my_list.pop()\n",
    "print(\"İkinci Durum: \", my_list)\n",
    "\n",
    "my_list.pop(2)\n",
    "print(\"Sonraki Hali: \", my_list)"
   ]
  },
  {
   "cell_type": "markdown",
   "metadata": {},
   "source": [
    "del() --> listeyi tamamen siler"
   ]
  },
  {
   "cell_type": "code",
   "execution_count": 33,
   "metadata": {},
   "outputs": [
    {
     "ename": "NameError",
     "evalue": "name 'my_list' is not defined",
     "output_type": "error",
     "traceback": [
      "\u001b[1;31m---------------------------------------------------------------------------\u001b[0m",
      "\u001b[1;31mNameError\u001b[0m                                 Traceback (most recent call last)",
      "Cell \u001b[1;32mIn [33], line 5\u001b[0m\n\u001b[0;32m      1\u001b[0m my_list \u001b[38;5;241m=\u001b[39m [\u001b[38;5;124m\"\u001b[39m\u001b[38;5;124mZeynep\u001b[39m\u001b[38;5;124m\"\u001b[39m, \u001b[38;5;124m\"\u001b[39m\u001b[38;5;124mÖykü\u001b[39m\u001b[38;5;124m\"\u001b[39m, \u001b[38;5;124m\"\u001b[39m\u001b[38;5;124mBetül\u001b[39m\u001b[38;5;124m\"\u001b[39m, \u001b[38;5;124m\"\u001b[39m\u001b[38;5;124mİrem\u001b[39m\u001b[38;5;124m\"\u001b[39m, \u001b[38;5;124m\"\u001b[39m\u001b[38;5;124mNihal\u001b[39m\u001b[38;5;124m\"\u001b[39m, \u001b[38;5;124m\"\u001b[39m\u001b[38;5;124mİrem\u001b[39m\u001b[38;5;124m\"\u001b[39m, \u001b[38;5;124m\"\u001b[39m\u001b[38;5;124mÖykü\u001b[39m\u001b[38;5;124m\"\u001b[39m, \u001b[38;5;124m\"\u001b[39m\u001b[38;5;124mÖykü\u001b[39m\u001b[38;5;124m\"\u001b[39m ]\n\u001b[0;32m      3\u001b[0m \u001b[38;5;28;01mdel\u001b[39;00m my_list\n\u001b[1;32m----> 5\u001b[0m \u001b[38;5;28mprint\u001b[39m(my_list)\n",
      "\u001b[1;31mNameError\u001b[0m: name 'my_list' is not defined"
     ]
    }
   ],
   "source": [
    "my_list = [\"Zeynep\", \"Öykü\", \"Betül\", \"İrem\", \"Nihal\", \"İrem\", \"Öykü\", \"Öykü\" ]\n",
    "\n",
    "del my_list\n",
    "\n",
    "print(my_list)"
   ]
  },
  {
   "cell_type": "code",
   "execution_count": 35,
   "metadata": {},
   "outputs": [
    {
     "name": "stdout",
     "output_type": "stream",
     "text": [
      "['Zeynep', 'Öykü', 'Betül', 'İrem', 'Nihal', 'İrem', 'Öykü', 'Öykü']\n",
      "['Zeynep', 'İrem', 'Nihal', 'İrem', 'Öykü', 'Öykü']\n"
     ]
    }
   ],
   "source": [
    "my_list = [\"Zeynep\", \"Öykü\", \"Betül\", \"İrem\", \"Nihal\", \"İrem\", \"Öykü\", \"Öykü\" ]\n",
    "print(my_list)\n",
    "\n",
    "del my_list[1:3] #belirtilen aralıktaki değerleri siler\n",
    "print(my_list)"
   ]
  },
  {
   "cell_type": "markdown",
   "metadata": {},
   "source": [
    "clear() -> Liste içerisindeki tüm elemanları siler. Çıktı olarak da boş liste döner."
   ]
  },
  {
   "cell_type": "code",
   "execution_count": 36,
   "metadata": {},
   "outputs": [
    {
     "name": "stdout",
     "output_type": "stream",
     "text": [
      "['Zeynep', 'Öykü', 'Betül', 'İrem', 'Nihal', 'İrem', 'Öykü', 'Öykü']\n",
      "[]\n"
     ]
    }
   ],
   "source": [
    "my_list = [\"Zeynep\", \"Öykü\", \"Betül\", \"İrem\", \"Nihal\", \"İrem\", \"Öykü\", \"Öykü\" ]\n",
    "print(my_list)\n",
    "\n",
    "my_list.clear()\n",
    "print(my_list)"
   ]
  },
  {
   "cell_type": "markdown",
   "metadata": {},
   "source": [
    "Bir liste içerisinde eleman bulma"
   ]
  },
  {
   "cell_type": "markdown",
   "metadata": {},
   "source": [
    "index() --> kaçıncı indexte olduğunu söylüyor"
   ]
  },
  {
   "cell_type": "code",
   "execution_count": 38,
   "metadata": {},
   "outputs": [
    {
     "name": "stdout",
     "output_type": "stream",
     "text": [
      "2\n"
     ]
    }
   ],
   "source": [
    "movies = [\"Friends\", \"The Office\", \"The Big Bang Theory\", \"Breaking Bad\", \"How I Met Your Mother\", \"Heartland\"]\n",
    "\n",
    "print(movies.index(\"The Big Bang Theory\"))"
   ]
  },
  {
   "cell_type": "markdown",
   "metadata": {},
   "source": [
    "İki listeyi concat etme(birleştirme)"
   ]
  },
  {
   "cell_type": "code",
   "execution_count": 39,
   "metadata": {},
   "outputs": [
    {
     "name": "stdout",
     "output_type": "stream",
     "text": [
      "[1, 2, 3, 4, 5, 6]\n"
     ]
    }
   ],
   "source": [
    "my_list1 = [1, 2, 3]\n",
    "my_list2 = [4, 5, 6]\n",
    "\n",
    "my_list3 = my_list1 + my_list2\n",
    "print(my_list3)"
   ]
  },
  {
   "cell_type": "code",
   "execution_count": 41,
   "metadata": {},
   "outputs": [
    {
     "name": "stdout",
     "output_type": "stream",
     "text": [
      "[1, 2, 3, 4, 5, 6, 1]\n"
     ]
    }
   ],
   "source": [
    "my_list1 = [1, 2, 3]\n",
    "my_list2 = [4, 5, 6, 1]\n",
    "\n",
    "my_list1.extend(my_list2)\n",
    "print(my_list1)"
   ]
  },
  {
   "cell_type": "code",
   "execution_count": 46,
   "metadata": {},
   "outputs": [
    {
     "name": "stdout",
     "output_type": "stream",
     "text": [
      "[None]\n"
     ]
    }
   ],
   "source": [
    "#böyle olmuyormuş\n",
    "my_list1 = [1, 2, 3]\n",
    "my_list2 = [4, 5, 6, 1]\n",
    "\n",
    "a = [my_list1.extend(my_list2)]\n",
    "print(a)"
   ]
  },
  {
   "cell_type": "code",
   "execution_count": 48,
   "metadata": {},
   "outputs": [
    {
     "name": "stdout",
     "output_type": "stream",
     "text": [
      "None\n"
     ]
    }
   ],
   "source": [
    "#Böyle de olmuyormuş\n",
    "my_list1 = [1, 2, 3]\n",
    "my_list2 = [4, 5, 6, 1]\n",
    "\n",
    "print(my_list1.extend(my_list2))"
   ]
  },
  {
   "cell_type": "code",
   "execution_count": 57,
   "metadata": {},
   "outputs": [
    {
     "name": "stdout",
     "output_type": "stream",
     "text": [
      "['Zeynep', 'Betül', 'İrem', 1, 'Nihal', 'İrem', 'Öykü', 'Öykü']\n",
      "['Zeynep', 'Betül', 'İrem', 1, 'Nihal', 'İrem']\n"
     ]
    }
   ],
   "source": [
    "from re import M\n",
    "\n",
    "\n",
    "my_list = [\"Zeynep\", \"Öykü\", \"Betül\", \"İrem\", 1, \"Nihal\", \"İrem\", \"Öykü\", \"Öykü\" ]\n",
    "my_list.pop(my_list.index(\"Öykü\"))\n",
    "\n",
    "print(my_list)\n",
    "\n",
    "while \"Öykü\" in my_list:\n",
    "    my_list.pop(my_list.index(\"Öykü\"))\n",
    "print(my_list)\n",
    "\n",
    "\n",
    "#for item in my_list:\n",
    "#    print(item)\n",
    "#    if item == \"Öykü\":\n",
    "#        my_list.remove(\"Öykü\")\n",
    "\n",
    "#print(my_list)"
   ]
  },
  {
   "cell_type": "markdown",
   "metadata": {},
   "source": [
    "Bir Listenin Kopyalanması"
   ]
  },
  {
   "cell_type": "code",
   "execution_count": null,
   "metadata": {},
   "outputs": [],
   "source": [
    "my_list = [1, 2, 3]\n",
    "\n",
    "new_list = my_list\n",
    "\n",
    "my_list.append(4)\n",
    "print(new_list)\n",
    "\n",
    "#atama operatörüyle yaparsam bir listedeki değişiklikten diğeri de etkilenir\n",
    "#iki listeyi bağımsız yapmak istersek, copy methodunu kullanabiliriz\n"
   ]
  },
  {
   "cell_type": "markdown",
   "metadata": {},
   "source": [
    "copy()"
   ]
  },
  {
   "cell_type": "code",
   "execution_count": 59,
   "metadata": {},
   "outputs": [
    {
     "name": "stdout",
     "output_type": "stream",
     "text": [
      "[1, 2, 3]\n"
     ]
    }
   ],
   "source": [
    "my_list = [1, 2, 3]\n",
    "new_list = my_list.copy()\n",
    "\n",
    "my_list.append(4)\n",
    "print(new_list)\n",
    "\n",
    "#gördüğümüz gibi new_list etkilenmedi"
   ]
  },
  {
   "cell_type": "markdown",
   "metadata": {},
   "source": [
    "* sort \n",
    "* reverse\n",
    "* max, min\n",
    "* sum"
   ]
  },
  {
   "cell_type": "code",
   "execution_count": 60,
   "metadata": {},
   "outputs": [
    {
     "name": "stdout",
     "output_type": "stream",
     "text": [
      "Listenin ilk hali:  [1, 6, 3, 8, 0]\n",
      "Listenin sıralanmış hali:  [0, 1, 3, 6, 8]\n",
      "Listenin tersten sıralanmış hali:  [8, 6, 3, 1, 0]\n",
      "Listenin max. elemanı:  8\n",
      "Listenin min. elemanı:  0\n",
      "Listenin elemanlarının toplamı:  18\n"
     ]
    }
   ],
   "source": [
    "my_list = [1, 6, 3, 8, 0]\n",
    "print(\"Listenin ilk hali: \", my_list)\n",
    "\n",
    "my_list.sort()\n",
    "print(\"Listenin sıralanmış hali: \", my_list)\n",
    "\n",
    "my_list.reverse()\n",
    "print(\"Listenin tersten sıralanmış hali: \", my_list)\n",
    "\n",
    "print(\"Listenin max. elemanı: \", max(my_list))\n",
    "print(\"Listenin min. elemanı: \", min(my_list))\n",
    "print(\"Listenin elemanlarının toplamı: \", sum(my_list))\n"
   ]
  },
  {
   "cell_type": "markdown",
   "metadata": {},
   "source": [
    "İç İçe Listeler"
   ]
  },
  {
   "cell_type": "code",
   "execution_count": 61,
   "metadata": {},
   "outputs": [
    {
     "name": "stdout",
     "output_type": "stream",
     "text": [
      "Software Dev.\n",
      "AI & ML Engineer\n"
     ]
    }
   ],
   "source": [
    "my_list = [\"Aysel Aydin\", 2015, [\"Software Dev.\", \"Android Dev.\", \"AI & ML Engineer\"], 7, 3467]\n",
    "\n",
    "print(my_list[2][0])\n",
    "print(my_list[2][-1])"
   ]
  },
  {
   "cell_type": "code",
   "execution_count": 66,
   "metadata": {},
   "outputs": [
    {
     "name": "stdout",
     "output_type": "stream",
     "text": [
      "[4, 16, 36, 64, 100, 0]\n"
     ]
    }
   ],
   "source": [
    "#Bu listedeki çift sayıların karelerinden yeni bir liste oluşturulaım.\n",
    "my_list = [1, 2, 3, 4, 5, 6, 7, 8, 9, 10, 0]\n",
    "\n",
    "new_list = []\n",
    "for item in my_list:\n",
    "    if item % 2 == 0:\n",
    "        new_list.append(item**2)\n",
    "print(new_list)"
   ]
  },
  {
   "cell_type": "code",
   "execution_count": 74,
   "metadata": {},
   "outputs": [
    {
     "name": "stdout",
     "output_type": "stream",
     "text": [
      "1\n",
      "2\n",
      "3\n",
      "4\n",
      "5\n",
      "6\n",
      "7\n",
      "8\n",
      "9\n",
      "10\n",
      "0\n",
      "1\n",
      "2\n",
      "3\n",
      "4\n",
      "5\n",
      "6\n",
      "7\n",
      "8\n",
      "9\n",
      "10\n",
      "0\n"
     ]
    }
   ],
   "source": [
    "my_list = [1, 2, 3, 4, 5, 6, 7, 8, 9, 10, 0]\n",
    "\n",
    "for i in my_list:\n",
    "    print(i)\n",
    "\n",
    "my_list = [1, 2, 3, 4, 5, 6, 7, 8, 9, 10, 0]\n",
    "\n",
    "for i in range(0,len(my_list)):\n",
    "    print(my_list[i])"
   ]
  },
  {
   "cell_type": "code",
   "execution_count": 75,
   "metadata": {},
   "outputs": [
    {
     "name": "stdout",
     "output_type": "stream",
     "text": [
      "7\n"
     ]
    },
    {
     "ename": "IndexError",
     "evalue": "list index out of range",
     "output_type": "error",
     "traceback": [
      "\u001b[1;31m---------------------------------------------------------------------------\u001b[0m",
      "\u001b[1;31mIndexError\u001b[0m                                Traceback (most recent call last)",
      "Cell \u001b[1;32mIn [75], line 4\u001b[0m\n\u001b[0;32m      1\u001b[0m my_list \u001b[38;5;241m=\u001b[39m [\u001b[38;5;241m1\u001b[39m, \u001b[38;5;241m7\u001b[39m, \u001b[38;5;241m3\u001b[39m, \u001b[38;5;241m4\u001b[39m]\n\u001b[0;32m      3\u001b[0m \u001b[38;5;28;01mfor\u001b[39;00m i \u001b[38;5;129;01min\u001b[39;00m my_list:\n\u001b[1;32m----> 4\u001b[0m     \u001b[38;5;28mprint\u001b[39m(my_list[i])\n",
      "\u001b[1;31mIndexError\u001b[0m: list index out of range"
     ]
    }
   ],
   "source": [
    "my_list = [1, 7, 3, 4]\n",
    "\n",
    "for i in my_list:\n",
    "    print(my_list[i]) "
   ]
  },
  {
   "cell_type": "markdown",
   "metadata": {},
   "source": [
    "Hata veriyor çünkü my list i'de ilerlerken 2. eleman 7 ve bundan dolayı 7. elemana gitmek isteyecek; öyle bir eleman da yok."
   ]
  },
  {
   "cell_type": "code",
   "execution_count": 76,
   "metadata": {},
   "outputs": [
    {
     "name": "stdout",
     "output_type": "stream",
     "text": [
      "['Aysel Aydin', 2015, ['Software Dev.', 'Android Dev.', 'AI & ML Engineer', 'Eğitmen'], 7, 3467]\n"
     ]
    }
   ],
   "source": [
    "#Eğitmen title değerini 2. indexe ekleyelim\n",
    "my_list = [\"Aysel Aydin\", 2015, [\"Software Dev.\", \"Android Dev.\", \"AI & ML Engineer\"], 7, 3467]\n",
    "\n",
    "my_list[2].append(\"Eğitmen\")\n",
    "print(my_list)"
   ]
  },
  {
   "cell_type": "code",
   "execution_count": 77,
   "metadata": {},
   "outputs": [
    {
     "name": "stdout",
     "output_type": "stream",
     "text": [
      "[10, 20, 30, 40, 50]\n"
     ]
    }
   ],
   "source": [
    "#Duplicate verileri temizleyerek, yeni bir liste oluşturalım.\n",
    "my_list = [10, 10, 20, 30, 10, 40, 50]\n",
    "unique_list = []\n",
    "\n",
    "for i in my_list:\n",
    "    if i not in unique_list:\n",
    "        unique_list.append(i)\n",
    "print(unique_list)"
   ]
  },
  {
   "cell_type": "code",
   "execution_count": 79,
   "metadata": {},
   "outputs": [
    {
     "name": "stdout",
     "output_type": "stream",
     "text": [
      "[10, 20, 30, 40, 50]\n"
     ]
    }
   ],
   "source": [
    "#Duplicate verileri temizleyerek, yeni bir liste oluşturalım.\n",
    "my_list = [10, 10, 20, 30, 10, 40, 50]\n",
    "unique_list = []\n",
    "\n",
    "for item in my_list:\n",
    "    if item not in unique_list:\n",
    "        unique_list.append(item)\n",
    "print(unique_list)"
   ]
  },
  {
   "cell_type": "code",
   "execution_count": 80,
   "metadata": {},
   "outputs": [
    {
     "name": "stdout",
     "output_type": "stream",
     "text": [
      "10\n"
     ]
    }
   ],
   "source": [
    "#Liste içerisindeki en küçük elemanı bulma (min metodu kullanmadan)\n",
    "my_list = [1, 2, 3, 9, 4, 5, 6, 7, 8, 9, 10, 0]\n",
    "temp = 0\n",
    "\n",
    "for item in my_list:\n",
    "    if item > temp:\n",
    "        temp = item\n",
    "\n",
    "print(temp)"
   ]
  },
  {
   "cell_type": "markdown",
   "metadata": {},
   "source": [
    "Burada büyük küçük eleman bulma vb. bir kıyas söz konusu o nedenle incelenecek değerleri tutacağımız bir değişken yarattık. (temporary değişken, temp)"
   ]
  },
  {
   "cell_type": "code",
   "execution_count": 83,
   "metadata": {},
   "outputs": [
    {
     "name": "stdout",
     "output_type": "stream",
     "text": [
      "['SistersLab', 'Women', 'In', 'Tech', 'Python', 'akademimiz', 'tüm', 'hızıyla', 'devam', 'etmektedir.']\n",
      "['SistersLab', 'Women', 'Python', 'akademimiz', 'hızıyla', 'devam', 'etmektedir.']\n"
     ]
    }
   ],
   "source": [
    "# text içerisinde yer alan kelimelerden uzunluğu dörtten büyük eşit olanları ayrı bir listeye atalım\n",
    "\n",
    "text = \"SistersLab Women In Tech Python akademimiz tüm hızıyla devam etmektedir.\"\n",
    "\n",
    "words = text.split(\" \") #her boşluklu ifadeyi ayrı kelime olarak algılayacak\n",
    "print(words)\n",
    "new_list = []\n",
    "for i in words:\n",
    "    if len(i) > 4:\n",
    "        new_list.append(i)\n",
    "print(new_list)"
   ]
  }
 ],
 "metadata": {
  "kernelspec": {
   "display_name": "Python 3.10.2 64-bit",
   "language": "python",
   "name": "python3"
  },
  "language_info": {
   "codemirror_mode": {
    "name": "ipython",
    "version": 3
   },
   "file_extension": ".py",
   "mimetype": "text/x-python",
   "name": "python",
   "nbconvert_exporter": "python",
   "pygments_lexer": "ipython3",
   "version": "3.10.2"
  },
  "orig_nbformat": 4,
  "vscode": {
   "interpreter": {
    "hash": "26de051ba29f2982a8de78e945f0abaf191376122a1563185a90213a26c5da77"
   }
  }
 },
 "nbformat": 4,
 "nbformat_minor": 2
}
