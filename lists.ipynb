{
 "cells": [
  {
   "cell_type": "markdown",
   "metadata": {},
   "source": [
    "Slicing"
   ]
  },
  {
   "cell_type": "code",
   "execution_count": 1,
   "metadata": {},
   "outputs": [
    {
     "name": "stdout",
     "output_type": "stream",
     "text": [
      "['Bilge', 26, 'AI & ML Engineer', True, 15000.34, 'Menekşe', 'Merve', 'Şule']\n"
     ]
    }
   ],
   "source": [
    "my_list = [\"Bilge\", 26, \"AI & ML Engineer\", True, 15000.34, 'Menekşe', 'Merve', 'Şule']\n",
    "\n",
    "print(my_list)"
   ]
  },
  {
   "cell_type": "code",
   "execution_count": null,
   "metadata": {},
   "outputs": [],
   "source": [
    "#ilk dört elemanı ekrana yazalım\n",
    "print(my_list[0:4])"
   ]
  },
  {
   "cell_type": "code",
   "execution_count": 2,
   "metadata": {},
   "outputs": [
    {
     "name": "stdout",
     "output_type": "stream",
     "text": [
      "['Bilge', 'AI & ML Engineer', 15000.34, 'Merve']\n"
     ]
    }
   ],
   "source": [
    "#her iki elemanda bir atlayarak ekrana bas\n",
    "print(my_list[::2])"
   ]
  },
  {
   "cell_type": "code",
   "execution_count": 3,
   "metadata": {},
   "outputs": [
    {
     "name": "stdout",
     "output_type": "stream",
     "text": [
      "['AI & ML Engineer', True, 15000.34]\n"
     ]
    }
   ],
   "source": [
    "#2 ile 5 index aralığındaki elemanları basalım\n",
    "print(my_list[2:5])\n",
    "\n",
    "#range ile aynı mantık, yalnızca syntax farklı"
   ]
  },
  {
   "cell_type": "code",
   "execution_count": 5,
   "metadata": {},
   "outputs": [
    {
     "name": "stdout",
     "output_type": "stream",
     "text": [
      "['AI & ML Engineer', 15000.34, 'Merve']\n"
     ]
    }
   ],
   "source": [
    "#2 ile 5 index aralığındaki elemanları basalım\n",
    "print(my_list[2:7:2])\n",
    "#iki atlayarak"
   ]
  },
  {
   "cell_type": "code",
   "execution_count": 7,
   "metadata": {},
   "outputs": [
    {
     "name": "stdout",
     "output_type": "stream",
     "text": [
      "['Şule', 'Merve', 'Menekşe', 15000.34, True, 'AI & ML Engineer', 26, 'Bilge']\n"
     ]
    }
   ],
   "source": [
    "#listeyi tersten yazdıralım\n",
    "print(my_list[::-1])"
   ]
  },
  {
   "cell_type": "markdown",
   "metadata": {},
   "source": [
    "Döngüler İle Listenin Elemanlarını Yazdırma"
   ]
  },
  {
   "cell_type": "code",
   "execution_count": 8,
   "metadata": {},
   "outputs": [
    {
     "name": "stdout",
     "output_type": "stream",
     "text": [
      "Bilge\n",
      "26\n",
      "AI & ML Engineer\n",
      "True\n",
      "15000.34\n",
      "Menekşe\n",
      "Merve\n",
      "Şule\n"
     ]
    }
   ],
   "source": [
    "my_list = [\"Bilge\", 26, \"AI & ML Engineer\", True, 15000.34, 'Menekşe', 'Merve', 'Şule']\n",
    "\n",
    "for item in my_list:\n",
    "    print(item)"
   ]
  },
  {
   "cell_type": "markdown",
   "metadata": {},
   "source": [
    "Elemanları yan yana gösterelim"
   ]
  },
  {
   "cell_type": "code",
   "execution_count": 9,
   "metadata": {},
   "outputs": [
    {
     "name": "stdout",
     "output_type": "stream",
     "text": [
      "Bilge  -  26  -  AI & ML Engineer  -  True  -  15000.34  -  Menekşe  -  Merve  -  Şule  -  "
     ]
    }
   ],
   "source": [
    "for item in my_list:\n",
    "    print(item, end=\"  -  \")"
   ]
  },
  {
   "cell_type": "markdown",
   "metadata": {},
   "source": [
    "İndexler üzerinden erişim"
   ]
  },
  {
   "cell_type": "code",
   "execution_count": 10,
   "metadata": {},
   "outputs": [
    {
     "name": "stdout",
     "output_type": "stream",
     "text": [
      "0. index değeri: Bilge\n",
      "1. index değeri: 26\n",
      "2. index değeri: AI & ML Engineer\n",
      "3. index değeri: True\n",
      "4. index değeri: 15000.34\n",
      "5. index değeri: Menekşe\n",
      "6. index değeri: Merve\n",
      "7. index değeri: Şule\n"
     ]
    }
   ],
   "source": [
    "for i in range(0, len(my_list)):\n",
    "    print(f\"{i}. index değeri: {my_list[i]}\")"
   ]
  },
  {
   "cell_type": "markdown",
   "metadata": {},
   "source": [
    "Listelere Eleman Ekleme"
   ]
  },
  {
   "cell_type": "markdown",
   "metadata": {},
   "source": [
    "Remember: indexler 0'dan başlar"
   ]
  },
  {
   "cell_type": "markdown",
   "metadata": {},
   "source": [
    "*append()\n",
    "*insert()\n",
    "*extend()\n",
    "\n",
    "append() -> Listenin sonuna eklenir."
   ]
  },
  {
   "cell_type": "code",
   "execution_count": 11,
   "metadata": {},
   "outputs": [
    {
     "name": "stdout",
     "output_type": "stream",
     "text": [
      "['Ayşe Nur', 26, 'AI & ML Engineer', True, 15000.34, 'Menekşe', 'Merve', 'Şule']\n",
      "['Ayşe Nur', 26, 'AI & ML Engineer', True, 15000.34, 'Menekşe', 'Merve', 'Şule', 'Edanur']\n"
     ]
    }
   ],
   "source": [
    "my_list = [\"Ayşe Nur\", 26, \"AI & ML Engineer\", True, 15000.34, \"Menekşe\", \"Merve\", \"Şule\"]\n",
    "print(my_list)\n",
    "\n",
    "my_list.append(\"Edanur\")\n",
    "print(my_list)"
   ]
  },
  {
   "cell_type": "markdown",
   "metadata": {},
   "source": [
    "insert() -> istenilen indexte konumlandırma yapar"
   ]
  },
  {
   "cell_type": "code",
   "execution_count": 14,
   "metadata": {},
   "outputs": [
    {
     "name": "stdout",
     "output_type": "stream",
     "text": [
      "['Betül', 'Ayşe Nur', 26, 'AI & ML Engineer', True, 15000.34, 'Menekşe', 'Merve', 'Şule', 'Edanur']\n",
      "['Betül', 'Betül', 'Ayşe Nur', 26, 'AI & ML Engineer', True, 15000.34, 'Menekşe', 'Merve', 'Şule', 'Edanur']\n",
      "['Betül', 'Betül', 'Betül', 'Ayşe Nur', 26, 'AI & ML Engineer', True, 15000.34, 'Menekşe', 'Merve', 'Şule', 'Edanur']\n"
     ]
    }
   ],
   "source": [
    "print(my_list)\n",
    "\n",
    "my_list.insert(0, \"Betül\")\n",
    "print(my_list)\n",
    "\n",
    "my_list.insert(1, \"Betül\")\n",
    "print(my_list)"
   ]
  },
  {
   "cell_type": "markdown",
   "metadata": {},
   "source": [
    "extend() --> Listenin sonuna ekleme yapar. Birden fazla eleman eklemeye izin verir."
   ]
  },
  {
   "cell_type": "code",
   "execution_count": 17,
   "metadata": {},
   "outputs": [
    {
     "name": "stdout",
     "output_type": "stream",
     "text": [
      "['Ayşe Nur', 26, 'AI & ML Engineer', True, 15000.34, 'Menekşe', 'Merve', 'Şule']\n",
      "['Ayşe Nur', 26, 'AI & ML Engineer', True, 15000.34, 'Menekşe', 'Merve', 'Şule', 1, 2, 3, 4]\n"
     ]
    }
   ],
   "source": [
    "my_list = [\"Ayşe Nur\", 26, \"AI & ML Engineer\", True, 15000.34, \"Menekşe\", \"Merve\", \"Şule\"]\n",
    "print(my_list)\n",
    "\n",
    "# my_list.extend([1])\n",
    "# print(my_list)\n",
    "\n",
    "my_list.extend([1,2,3,4])\n",
    "print(my_list)"
   ]
  }
 ],
 "metadata": {
  "kernelspec": {
   "display_name": "Python 3.10.2 64-bit",
   "language": "python",
   "name": "python3"
  },
  "language_info": {
   "codemirror_mode": {
    "name": "ipython",
    "version": 3
   },
   "file_extension": ".py",
   "mimetype": "text/x-python",
   "name": "python",
   "nbconvert_exporter": "python",
   "pygments_lexer": "ipython3",
   "version": "3.10.2"
  },
  "orig_nbformat": 4,
  "vscode": {
   "interpreter": {
    "hash": "26de051ba29f2982a8de78e945f0abaf191376122a1563185a90213a26c5da77"
   }
  }
 },
 "nbformat": 4,
 "nbformat_minor": 2
}
