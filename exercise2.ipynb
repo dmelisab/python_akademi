{
 "cells": [
  {
   "cell_type": "code",
   "execution_count": 5,
   "metadata": {},
   "outputs": [
    {
     "name": "stdout",
     "output_type": "stream",
     "text": [
      "120\n"
     ]
    }
   ],
   "source": [
    "given = [1,2,3,4,5]\n",
    "def multiply(item):\n",
    "    multip = 1\n",
    "    for i in item:\n",
    "        multip = i * multip \n",
    "    return(multip)\n",
    "\n",
    "print(multiply(given))\n"
   ]
  },
  {
   "cell_type": "code",
   "execution_count": 8,
   "metadata": {},
   "outputs": [
    {
     "name": "stdout",
     "output_type": "stream",
     "text": [
      "6\n"
     ]
    }
   ],
   "source": [
    "def afunc(givenlist):\n",
    "    kalan = 0\n",
    "    for i in givenlist:\n",
    "        kalan += i % 5\n",
    "    return(kalan)\n",
    "\n",
    "newlist = [5, 17, 24, 40, 30]\n",
    "print(afunc(newlist))"
   ]
  },
  {
   "cell_type": "code",
   "execution_count": 22,
   "metadata": {},
   "outputs": [
    {
     "ename": "KeyboardInterrupt",
     "evalue": "Interrupted by user",
     "output_type": "error",
     "traceback": [
      "\u001b[1;31m---------------------------------------------------------------------------\u001b[0m",
      "\u001b[1;31mKeyboardInterrupt\u001b[0m                         Traceback (most recent call last)",
      "Cell \u001b[1;32mIn [22], line 9\u001b[0m\n\u001b[0;32m      5\u001b[0m     \u001b[38;5;28;01mwhile\u001b[39;00m x \u001b[38;5;241m!=\u001b[39m \u001b[38;5;124m'\u001b[39m\u001b[38;5;124mexit\u001b[39m\u001b[38;5;124m'\u001b[39m:\n\u001b[0;32m      6\u001b[0m         y \u001b[38;5;241m=\u001b[39m newList\u001b[38;5;241m.\u001b[39mappend(\u001b[38;5;28minput\u001b[39m(\u001b[38;5;124m\"\u001b[39m\u001b[38;5;124mListeyi giriniz: \u001b[39m\u001b[38;5;124m\"\u001b[39m))\n\u001b[1;32m----> 9\u001b[0m getinput()\n\u001b[0;32m     10\u001b[0m \u001b[38;5;28mprint\u001b[39m(newList)\n",
      "Cell \u001b[1;32mIn [22], line 6\u001b[0m, in \u001b[0;36mgetinput\u001b[1;34m()\u001b[0m\n\u001b[0;32m      4\u001b[0m \u001b[38;5;28;01mdef\u001b[39;00m \u001b[38;5;21mgetinput\u001b[39m():\n\u001b[0;32m      5\u001b[0m     \u001b[38;5;28;01mwhile\u001b[39;00m x \u001b[38;5;241m!=\u001b[39m \u001b[38;5;124m'\u001b[39m\u001b[38;5;124mexit\u001b[39m\u001b[38;5;124m'\u001b[39m:\n\u001b[1;32m----> 6\u001b[0m         y \u001b[38;5;241m=\u001b[39m newList\u001b[38;5;241m.\u001b[39mappend(\u001b[38;5;28;43minput\u001b[39;49m\u001b[43m(\u001b[49m\u001b[38;5;124;43m\"\u001b[39;49m\u001b[38;5;124;43mListeyi giriniz: \u001b[39;49m\u001b[38;5;124;43m\"\u001b[39;49m\u001b[43m)\u001b[49m)\n",
      "File \u001b[1;32m~\\AppData\\Roaming\\Python\\Python310\\site-packages\\ipykernel\\kernelbase.py:1177\u001b[0m, in \u001b[0;36mKernel.raw_input\u001b[1;34m(self, prompt)\u001b[0m\n\u001b[0;32m   1173\u001b[0m \u001b[39mif\u001b[39;00m \u001b[39mnot\u001b[39;00m \u001b[39mself\u001b[39m\u001b[39m.\u001b[39m_allow_stdin:\n\u001b[0;32m   1174\u001b[0m     \u001b[39mraise\u001b[39;00m StdinNotImplementedError(\n\u001b[0;32m   1175\u001b[0m         \u001b[39m\"\u001b[39m\u001b[39mraw_input was called, but this frontend does not support input requests.\u001b[39m\u001b[39m\"\u001b[39m\n\u001b[0;32m   1176\u001b[0m     )\n\u001b[1;32m-> 1177\u001b[0m \u001b[39mreturn\u001b[39;00m \u001b[39mself\u001b[39;49m\u001b[39m.\u001b[39;49m_input_request(\n\u001b[0;32m   1178\u001b[0m     \u001b[39mstr\u001b[39;49m(prompt),\n\u001b[0;32m   1179\u001b[0m     \u001b[39mself\u001b[39;49m\u001b[39m.\u001b[39;49m_parent_ident[\u001b[39m\"\u001b[39;49m\u001b[39mshell\u001b[39;49m\u001b[39m\"\u001b[39;49m],\n\u001b[0;32m   1180\u001b[0m     \u001b[39mself\u001b[39;49m\u001b[39m.\u001b[39;49mget_parent(\u001b[39m\"\u001b[39;49m\u001b[39mshell\u001b[39;49m\u001b[39m\"\u001b[39;49m),\n\u001b[0;32m   1181\u001b[0m     password\u001b[39m=\u001b[39;49m\u001b[39mFalse\u001b[39;49;00m,\n\u001b[0;32m   1182\u001b[0m )\n",
      "File \u001b[1;32m~\\AppData\\Roaming\\Python\\Python310\\site-packages\\ipykernel\\kernelbase.py:1219\u001b[0m, in \u001b[0;36mKernel._input_request\u001b[1;34m(self, prompt, ident, parent, password)\u001b[0m\n\u001b[0;32m   1216\u001b[0m             \u001b[39mbreak\u001b[39;00m\n\u001b[0;32m   1217\u001b[0m \u001b[39mexcept\u001b[39;00m \u001b[39mKeyboardInterrupt\u001b[39;00m:\n\u001b[0;32m   1218\u001b[0m     \u001b[39m# re-raise KeyboardInterrupt, to truncate traceback\u001b[39;00m\n\u001b[1;32m-> 1219\u001b[0m     \u001b[39mraise\u001b[39;00m \u001b[39mKeyboardInterrupt\u001b[39;00m(\u001b[39m\"\u001b[39m\u001b[39mInterrupted by user\u001b[39m\u001b[39m\"\u001b[39m) \u001b[39mfrom\u001b[39;00m \u001b[39mNone\u001b[39m\n\u001b[0;32m   1220\u001b[0m \u001b[39mexcept\u001b[39;00m \u001b[39mException\u001b[39;00m:\n\u001b[0;32m   1221\u001b[0m     \u001b[39mself\u001b[39m\u001b[39m.\u001b[39mlog\u001b[39m.\u001b[39mwarning(\u001b[39m\"\u001b[39m\u001b[39mInvalid Message:\u001b[39m\u001b[39m\"\u001b[39m, exc_info\u001b[39m=\u001b[39m\u001b[39mTrue\u001b[39;00m)\n",
      "\u001b[1;31mKeyboardInterrupt\u001b[0m: Interrupted by user"
     ]
    }
   ],
   "source": [
    "newList = []\n",
    "x = input(\"Liste elemanı giriniz: \")\n",
    "\n",
    "def getinput():\n",
    "    while x != 'exit':\n",
    "        y = newList.append(input(\"Listeyi giriniz: \"))\n",
    "        \n",
    "\n",
    "getinput()\n",
    "print(newList)"
   ]
  },
  {
   "cell_type": "code",
   "execution_count": 57,
   "metadata": {},
   "outputs": [
    {
     "name": "stdout",
     "output_type": "stream",
     "text": [
      "[40.0, 50.0, 33.0, 22.0]\n",
      "90.0\n"
     ]
    }
   ],
   "source": [
    "newList = []\n",
    "\n",
    "def getinput():\n",
    "    getuser = float(input(\"Liste elemanı giriniz: \"))\n",
    "    while getuser != 1.1:\n",
    "        newList.append(getuser)\n",
    "        getuser = float((input(\"Liste elemanı giriniz: \")))\n",
    "    else: print(newList)\n",
    "\n",
    "getinput()\n",
    "\n",
    "getnumb= 0\n",
    "def tambolenler(somelist, somenumber):\n",
    "    getnumb = float(input(\"Bir sayı giriniz: \"))\n",
    "    sayac = 0\n",
    "    for i in somelist:\n",
    "        if i % getnumb == 0:\n",
    "            sayac = i + sayac \n",
    "    print(sayac)\n",
    "\n",
    "tambolenler(newList, getnumb)"
   ]
  },
  {
   "cell_type": "code",
   "execution_count": 46,
   "metadata": {},
   "outputs": [
    {
     "name": "stdout",
     "output_type": "stream",
     "text": [
      "12\n"
     ]
    }
   ],
   "source": [
    "liste=[3, 4, 7, 9, 11]\n",
    "bolunecek_sayi=3\n",
    "\n",
    "def tam_bolunenleri_topla(liste, bolunecek_sayi):\n",
    "    toplam=0\n",
    "    for i in liste:\n",
    "        if i % bolunecek_sayi == 0:\n",
    "            toplam=toplam + i\n",
    "    return toplam\n",
    "print(tam_bolunenleri_topla(liste, bolunecek_sayi))\n"
   ]
  },
  {
   "cell_type": "code",
   "execution_count": 53,
   "metadata": {},
   "outputs": [
    {
     "name": "stdout",
     "output_type": "stream",
     "text": [
      "['30', '34', '22']\n"
     ]
    },
    {
     "ename": "TypeError",
     "evalue": "not all arguments converted during string formatting",
     "output_type": "error",
     "traceback": [
      "\u001b[1;31m---------------------------------------------------------------------------\u001b[0m",
      "\u001b[1;31mTypeError\u001b[0m                                 Traceback (most recent call last)",
      "Cell \u001b[1;32mIn [53], line 20\u001b[0m\n\u001b[0;32m     17\u001b[0m             sayac \u001b[38;5;241m=\u001b[39m i \u001b[38;5;241m+\u001b[39m sayac \n\u001b[0;32m     18\u001b[0m     \u001b[38;5;28mprint\u001b[39m(sayac)\n\u001b[1;32m---> 20\u001b[0m tambolenler(newList, \u001b[38;5;241m5\u001b[39m)\n",
      "Cell \u001b[1;32mIn [53], line 16\u001b[0m, in \u001b[0;36mtambolenler\u001b[1;34m(somelist, somenumber)\u001b[0m\n\u001b[0;32m     14\u001b[0m sayac \u001b[38;5;241m=\u001b[39m \u001b[38;5;241m0\u001b[39m\n\u001b[0;32m     15\u001b[0m \u001b[38;5;28;01mfor\u001b[39;00m i \u001b[38;5;129;01min\u001b[39;00m somelist:\n\u001b[1;32m---> 16\u001b[0m     \u001b[38;5;28;01mif\u001b[39;00m \u001b[43mi\u001b[49m\u001b[43m \u001b[49m\u001b[38;5;241;43m%\u001b[39;49m\u001b[43m \u001b[49m\u001b[43msomenumber\u001b[49m \u001b[38;5;241m==\u001b[39m \u001b[38;5;241m0\u001b[39m:\n\u001b[0;32m     17\u001b[0m         sayac \u001b[38;5;241m=\u001b[39m i \u001b[38;5;241m+\u001b[39m sayac \n\u001b[0;32m     18\u001b[0m \u001b[38;5;28mprint\u001b[39m(sayac)\n",
      "\u001b[1;31mTypeError\u001b[0m: not all arguments converted during string formatting"
     ]
    }
   ],
   "source": [
    "newList = []\n",
    "\n",
    "def getinput():\n",
    "    getuser = (input(\"Liste elemanı giriniz: \"))\n",
    "    while getuser != 'exit':\n",
    "        newList.append(getuser)\n",
    "        getuser = (input(\"Liste elemanı giriniz: \"))\n",
    "    else: print(newList)\n",
    "\n",
    "getinput()\n",
    "\n",
    "\n",
    "def tambolenler(somelist, somenumber):\n",
    "    sayac = 0\n",
    "    for i in somelist:\n",
    "        if i % somenumber == 0:\n",
    "            sayac = i + sayac \n",
    "    print(sayac)\n",
    "\n",
    "tambolenler(newList, 5)"
   ]
  },
  {
   "cell_type": "code",
   "execution_count": 59,
   "metadata": {},
   "outputs": [
    {
     "name": "stdout",
     "output_type": "stream",
     "text": [
      "[40.0, 50.0, 65.0, 33.0]\n",
      "155\n"
     ]
    }
   ],
   "source": [
    "newList = []\n",
    "\n",
    "def getinput():\n",
    "    getuser = float(input(\"Liste elemanı giriniz: \"))\n",
    "    while getuser != 1.1:\n",
    "        newList.append(getuser)\n",
    "        getuser = float((input(\"Liste elemanı giriniz: \")))\n",
    "    else: print(newList)\n",
    "\n",
    "getinput()\n",
    "\n",
    "getnumb= 0\n",
    "def tambolenler(somelist, somenumber):\n",
    "    getnumb = float(input(\"Bir sayı giriniz: \"))\n",
    "    sayac = 0\n",
    "    for i in somelist:\n",
    "        if i % getnumb == 0:\n",
    "            sayac = i + sayac \n",
    "    print(int(sayac))\n",
    "\n",
    "tambolenler(newList, getnumb)"
   ]
  },
  {
   "cell_type": "code",
   "execution_count": 62,
   "metadata": {},
   "outputs": [
    {
     "name": "stdout",
     "output_type": "stream",
     "text": [
      "[40.0, 50.0, 53.0]\n",
      "90\n"
     ]
    }
   ],
   "source": [
    "newList = []\n",
    "\n",
    "def getinput():\n",
    "    getuser = float(input(\"Liste elemanı giriniz: \"))\n",
    "    while getuser != 1.1:\n",
    "        newList.append(getuser)\n",
    "        getuser = float((input(\"Liste elemanı giriniz: \")))\n",
    "    else: print(newList)\n",
    "\n",
    "getinput()\n",
    "\n",
    "getnumb= 0\n",
    "def tambolenler(somelist, somenumber):\n",
    "    getnumb = float(input(\"Bir sayı giriniz: \"))\n",
    "    sayac = 0\n",
    "    for i in somelist:\n",
    "        if i % getnumb == 0:\n",
    "            sayac = i + sayac \n",
    "    print(int(sayac))\n",
    "\n",
    "tambolenler(newList, getnumb)"
   ]
  }
 ],
 "metadata": {
  "kernelspec": {
   "display_name": "Python 3.10.2 64-bit",
   "language": "python",
   "name": "python3"
  },
  "language_info": {
   "codemirror_mode": {
    "name": "ipython",
    "version": 3
   },
   "file_extension": ".py",
   "mimetype": "text/x-python",
   "name": "python",
   "nbconvert_exporter": "python",
   "pygments_lexer": "ipython3",
   "version": "3.10.2"
  },
  "orig_nbformat": 4,
  "vscode": {
   "interpreter": {
    "hash": "26de051ba29f2982a8de78e945f0abaf191376122a1563185a90213a26c5da77"
   }
  }
 },
 "nbformat": 4,
 "nbformat_minor": 2
}
