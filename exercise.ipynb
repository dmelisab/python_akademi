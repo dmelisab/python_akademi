{
 "cells": [
  {
   "cell_type": "code",
   "execution_count": 8,
   "metadata": {},
   "outputs": [
    {
     "name": "stdout",
     "output_type": "stream",
     "text": [
      "BALRETSIS\n"
     ]
    }
   ],
   "source": [
    "#Aşağıdaki stringde verilen değeri, büyük harfe dönüştürmek ve tersine çevirmek için bir lambda fonksiyonu kullanın.\n",
    "\n",
    "#- SistersLab girdisi için beklenen çıktı 'BALSRETSİS'\n",
    "\n",
    "\n",
    "str1 = \"SisterLab\"\n",
    "reverse_upper = lambda string: string.upper()[::-1]\n",
    "print(reverse_upper(str1))\n"
   ]
  },
  {
   "cell_type": "code",
   "execution_count": 94,
   "metadata": {},
   "outputs": [
    {
     "name": "stdout",
     "output_type": "stream",
     "text": [
      "400\n"
     ]
    }
   ],
   "source": [
    "value = int(input(\"Bir sayı giriniz: \"))\n",
    "x = 0\n",
    "def calculate(value):\n",
    "    if value > 5 and value < 10:\n",
    "        global x\n",
    "        x = (value * 5)\n",
    "    elif value > 10:\n",
    "        x = (value * 10) \n",
    "    else: print(\"Value is not in the limits\")\n",
    "    return x\n",
    "print(calculate(value))"
   ]
  },
  {
   "cell_type": "code",
   "execution_count": 58,
   "metadata": {},
   "outputs": [
    {
     "name": "stdout",
     "output_type": "stream",
     "text": [
      "400\n"
     ]
    }
   ],
   "source": [
    "calculate = lambda x: x*5 if 5< x < 10 else x*10 \n",
    "x = int(input(\"Bir sayı giriniz: \"))\n",
    "print(calculate(x))\n"
   ]
  },
  {
   "cell_type": "code",
   "execution_count": 75,
   "metadata": {},
   "outputs": [
    {
     "ename": "TypeError",
     "evalue": "'list' object is not callable",
     "output_type": "error",
     "traceback": [
      "\u001b[1;31m---------------------------------------------------------------------------\u001b[0m",
      "\u001b[1;31mTypeError\u001b[0m                                 Traceback (most recent call last)",
      "Cell \u001b[1;32mIn [75], line 2\u001b[0m\n\u001b[0;32m      1\u001b[0m my_list \u001b[38;5;241m=\u001b[39m [\u001b[38;5;241m34\u001b[39m, \u001b[38;5;241m12\u001b[39m, \u001b[38;5;241m64\u001b[39m, \u001b[38;5;241m43\u001b[39m, \u001b[38;5;241m57\u001b[39m]\n\u001b[1;32m----> 2\u001b[0m \u001b[38;5;28mprint\u001b[39m(\u001b[38;5;28mlist\u001b[39m(\u001b[38;5;28mfilter\u001b[39m(\u001b[38;5;28;01mlambda\u001b[39;00m x: x \u001b[38;5;241m%\u001b[39m \u001b[38;5;241m2\u001b[39m \u001b[38;5;241m!=\u001b[39m \u001b[38;5;241m0\u001b[39m,my_list)))\n",
      "\u001b[1;31mTypeError\u001b[0m: 'list' object is not callable"
     ]
    }
   ],
   "source": [
    "my_list = [34, 12, 64, 43, 57]\n",
    "print(list(filter(lambda x: x % 2 != 0,my_list)))\n"
   ]
  },
  {
   "cell_type": "code",
   "execution_count": 56,
   "metadata": {},
   "outputs": [
    {
     "name": "stdout",
     "output_type": "stream",
     "text": [
      "300\n"
     ]
    }
   ],
   "source": [
    "number = int(input(\"Enter a number: \"))\n",
    "result = lambda number: number*5 if number in range(5,10) else number*10 if number > 10 else number\n",
    "\n",
    "print(result(number))\n"
   ]
  },
  {
   "cell_type": "code",
   "execution_count": 57,
   "metadata": {},
   "outputs": [
    {
     "name": "stdout",
     "output_type": "stream",
     "text": [
      "400\n"
     ]
    }
   ],
   "source": [
    "sayi= int(input(\"Bir sayı giriniz: \"))\n",
    "a=lambda x: (sayi >= 5 and sayi <= 10) and sayi *5 or sayi * 10\n",
    "print(a(sayi))\n"
   ]
  },
  {
   "cell_type": "code",
   "execution_count": 74,
   "metadata": {},
   "outputs": [
    {
     "name": "stdout",
     "output_type": "stream",
     "text": [
      "[3, 10]\n",
      "[12, 10, 9, 7, 6, 5, 4, 3, 2, 1, 0]\n",
      "[0, 1, 2, 3, 4, 5, 6, 7, 9, 10, 11, 12]\n",
      "[-15, 0, 1, 2, 3, 4, 5, 6, 7, 9, 10, 11, 12]\n"
     ]
    }
   ],
   "source": [
    "list = [0,1,2,3,4,5,6,7,9,10,12] \n",
    "print(list[3::6])\n",
    "print(list[::-1])\n",
    "\n",
    "list.insert(10, 11)\n",
    "print(list)\n",
    "list.insert(0,-15)\n",
    "print(list)"
   ]
  },
  {
   "cell_type": "code",
   "execution_count": 115,
   "metadata": {},
   "outputs": [
    {
     "name": "stdout",
     "output_type": "stream",
     "text": [
      "[0, 1, 2, 3, 4, 5, 6, 7, 9, 10]\n",
      "0 10 20 30 500 510 40 50 60 70 90 100 "
     ]
    }
   ],
   "source": [
    "list = [0,1,2,3,4,5,6,7,9,10,12] \n",
    "\n",
    "#list.remove(12)\n",
    "#print(list)\n",
    "\n",
    "list.pop(10)\n",
    "print(list)\n",
    "list.insert(4,50)\n",
    "list.insert(5, 51)\n",
    "\n",
    "for i in list:\n",
    "    print(i* 10, end= \" \")\n",
    "\n"
   ]
  },
  {
   "cell_type": "code",
   "execution_count": 119,
   "metadata": {},
   "outputs": [
    {
     "name": "stdout",
     "output_type": "stream",
     "text": [
      "[0, 1, 2, 3, 4, 50, 51, 5, 6, 7, 9, 10, 12]\n"
     ]
    },
    {
     "ename": "TypeError",
     "evalue": "'list' object is not callable",
     "output_type": "error",
     "traceback": [
      "\u001b[1;31m---------------------------------------------------------------------------\u001b[0m",
      "\u001b[1;31mTypeError\u001b[0m                                 Traceback (most recent call last)",
      "Cell \u001b[1;32mIn [119], line 6\u001b[0m\n\u001b[0;32m      3\u001b[0m liste[\u001b[38;5;241m5\u001b[39m:\u001b[38;5;241m5\u001b[39m] \u001b[38;5;241m=\u001b[39m [\u001b[38;5;241m50\u001b[39m,\u001b[38;5;241m51\u001b[39m]\n\u001b[0;32m      4\u001b[0m \u001b[38;5;28mprint\u001b[39m(liste)\n\u001b[1;32m----> 6\u001b[0m liste \u001b[38;5;241m=\u001b[39m \u001b[38;5;28mlist\u001b[39m(\u001b[38;5;28mmap\u001b[39m(\u001b[38;5;28;01mlambda\u001b[39;00m number: number \u001b[38;5;241m*\u001b[39m \u001b[38;5;241m10\u001b[39m, liste))\n\u001b[0;32m      7\u001b[0m \u001b[38;5;28mprint\u001b[39m(liste)\n",
      "\u001b[1;31mTypeError\u001b[0m: 'list' object is not callable"
     ]
    }
   ],
   "source": [
    "liste = [0,1,2,3,4,5,6,7,9,10,12] \n",
    "\n",
    "liste[5:5] = [50,51]\n",
    "print(liste)\n",
    "\n"
   ]
  },
  {
   "cell_type": "code",
   "execution_count": 122,
   "metadata": {},
   "outputs": [
    {
     "ename": "TypeError",
     "evalue": "'list' object is not callable",
     "output_type": "error",
     "traceback": [
      "\u001b[1;31m---------------------------------------------------------------------------\u001b[0m",
      "\u001b[1;31mTypeError\u001b[0m                                 Traceback (most recent call last)",
      "Cell \u001b[1;32mIn [122], line 2\u001b[0m\n\u001b[0;32m      1\u001b[0m \u001b[38;5;28mlist\u001b[39m \u001b[38;5;241m=\u001b[39m [\u001b[38;5;241m0\u001b[39m,\u001b[38;5;241m1\u001b[39m,\u001b[38;5;241m2\u001b[39m,\u001b[38;5;241m3\u001b[39m,\u001b[38;5;241m4\u001b[39m,\u001b[38;5;241m5\u001b[39m,\u001b[38;5;241m6\u001b[39m,\u001b[38;5;241m7\u001b[39m,\u001b[38;5;241m9\u001b[39m,\u001b[38;5;241m10\u001b[39m,\u001b[38;5;241m12\u001b[39m] \n\u001b[1;32m----> 2\u001b[0m liste \u001b[38;5;241m=\u001b[39m (\u001b[38;5;28mlist\u001b[39m(\u001b[38;5;28mmap\u001b[39m(\u001b[38;5;28;01mlambda\u001b[39;00m number: number \u001b[38;5;241m*\u001b[39m \u001b[38;5;241m10\u001b[39m, liste)))\n\u001b[0;32m      3\u001b[0m \u001b[38;5;28mprint\u001b[39m(liste)\n",
      "\u001b[1;31mTypeError\u001b[0m: 'list' object is not callable"
     ]
    }
   ],
   "source": [
    "list = [0,1,2,3,4,5,6,7,9,10,12] \n",
    "liste = (list(map(lambda number: number * 10, liste)))\n",
    "print(liste)\n"
   ]
  },
  {
   "cell_type": "code",
   "execution_count": 126,
   "metadata": {},
   "outputs": [
    {
     "name": "stdout",
     "output_type": "stream",
     "text": [
      "15\n"
     ]
    }
   ],
   "source": [
    "def listetopla(list):\n",
    "    sayac = 0 \n",
    "    list = [1, 2, 3, 4, 5]\n",
    "    for i in list:\n",
    "        sayac = sayac + i \n",
    "    return sayac\n",
    "print(listetopla(list))\n"
   ]
  },
  {
   "cell_type": "code",
   "execution_count": 128,
   "metadata": {},
   "outputs": [
    {
     "ename": "TypeError",
     "evalue": "'list' object is not callable",
     "output_type": "error",
     "traceback": [
      "\u001b[1;31m---------------------------------------------------------------------------\u001b[0m",
      "\u001b[1;31mTypeError\u001b[0m                                 Traceback (most recent call last)",
      "Cell \u001b[1;32mIn [128], line 1\u001b[0m\n\u001b[1;32m----> 1\u001b[0m liste \u001b[38;5;241m=\u001b[39m \u001b[38;5;28mlist\u001b[39m(\u001b[38;5;28mmap\u001b[39m(\u001b[38;5;28;01mlambda\u001b[39;00m number: number \u001b[38;5;241m*\u001b[39m \u001b[38;5;241m10\u001b[39m,liste))\n\u001b[0;32m      2\u001b[0m \u001b[38;5;28mprint\u001b[39m(liste)\n",
      "\u001b[1;31mTypeError\u001b[0m: 'list' object is not callable"
     ]
    }
   ],
   "source": [
    "liste = list(map(lambda number: number * 10,liste))\n",
    "print(liste)"
   ]
  }
 ],
 "metadata": {
  "kernelspec": {
   "display_name": "Python 3.10.2 64-bit",
   "language": "python",
   "name": "python3"
  },
  "language_info": {
   "codemirror_mode": {
    "name": "ipython",
    "version": 3
   },
   "file_extension": ".py",
   "mimetype": "text/x-python",
   "name": "python",
   "nbconvert_exporter": "python",
   "pygments_lexer": "ipython3",
   "version": "3.10.2"
  },
  "orig_nbformat": 4,
  "vscode": {
   "interpreter": {
    "hash": "26de051ba29f2982a8de78e945f0abaf191376122a1563185a90213a26c5da77"
   }
  }
 },
 "nbformat": 4,
 "nbformat_minor": 2
}
