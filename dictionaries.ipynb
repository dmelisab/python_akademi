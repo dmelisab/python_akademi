{
 "cells": [
  {
   "cell_type": "code",
   "execution_count": 7,
   "metadata": {},
   "outputs": [
    {
     "data": {
      "text/plain": [
       "{'name': 'Büşranur',\n",
       " 'company': 'Turkcell',\n",
       " 'age': '25',\n",
       " 'isFemale': True,\n",
       " 'salary': 10000.5}"
      ]
     },
     "execution_count": 7,
     "metadata": {},
     "output_type": "execute_result"
    }
   ],
   "source": [
    "my_dict = { \n",
    "    \"name\" : \"Büşranur\",\n",
    "    \"company\" : \"Turkcell\",\n",
    "    \"age\" : \"25\",\n",
    "    \"isFemale\" : True,\n",
    "    \"salary\" : 10000.50\n",
    "    }\n",
    "\n",
    "my_dict"
   ]
  },
  {
   "cell_type": "code",
   "execution_count": 8,
   "metadata": {},
   "outputs": [
    {
     "data": {
      "text/plain": [
       "{'name': 'Büşranur',\n",
       " 'company': 'Turkcell',\n",
       " 'title': ['AI & ML Engineer', 'Data Scientist', 'Backend Developer'],\n",
       " 'age': '25',\n",
       " 'isFemale': True,\n",
       " 'salary': 10000.5}"
      ]
     },
     "execution_count": 8,
     "metadata": {},
     "output_type": "execute_result"
    }
   ],
   "source": [
    "my_dict = { \n",
    "    \"name\" : \"Büşranur\",\n",
    "    \"company\" : \"Turkcell\",\n",
    "    \"title\":[\"AI & ML Engineer\", \"Data Scientist\", \"Backend Developer\"],\n",
    "    \"age\" : \"25\",\n",
    "    \"isFemale\" : True,\n",
    "    \"salary\" : 10000.50\n",
    "    }\n",
    "\n",
    "my_dict"
   ]
  },
  {
   "cell_type": "code",
   "execution_count": 9,
   "metadata": {},
   "outputs": [
    {
     "data": {
      "text/plain": [
       "{'name': 'Büşranur',\n",
       " 'company': 'Turkcell',\n",
       " 'title': ['AI & ML Engineer', 'Data Scientist', 'Backend Developer'],\n",
       " 'age': '25',\n",
       " 'isFemale': True,\n",
       " 'salary': 10000.5}"
      ]
     },
     "execution_count": 9,
     "metadata": {},
     "output_type": "execute_result"
    }
   ],
   "source": [
    "titlesarehere = [\"AI & ML Engineer\", \"Data Scientist\", \"Backend Developer\"]\n",
    "my_dict = { \n",
    "    \"name\" : \"Büşranur\",\n",
    "    \"company\" : \"Turkcell\",\n",
    "    \"title\": titlesarehere,\n",
    "    \"age\" : \"25\",\n",
    "    \"isFemale\" : True,\n",
    "    \"salary\" : 10000.50\n",
    "    }\n",
    "\n",
    "my_dict"
   ]
  },
  {
   "cell_type": "code",
   "execution_count": 10,
   "metadata": {},
   "outputs": [
    {
     "data": {
      "text/plain": [
       "{'first name': 'Menekşe ', 'last,name': 'Avcı'}"
      ]
     },
     "execution_count": 10,
     "metadata": {},
     "output_type": "execute_result"
    }
   ],
   "source": [
    "my_dict = dict({\"first name\": \"Menekşe \", \"last,name\" : \"Avcı\"})\n",
    "my_dict"
   ]
  },
  {
   "cell_type": "code",
   "execution_count": 11,
   "metadata": {},
   "outputs": [
    {
     "data": {
      "text/plain": [
       "dict"
      ]
     },
     "execution_count": 11,
     "metadata": {},
     "output_type": "execute_result"
    }
   ],
   "source": [
    "type(my_dict)"
   ]
  },
  {
   "cell_type": "code",
   "execution_count": 12,
   "metadata": {},
   "outputs": [
    {
     "data": {
      "text/plain": [
       "{'blue': 'mavi', 'red': 'kırmızı', 'yellow': 'sarı'}"
      ]
     },
     "execution_count": 12,
     "metadata": {},
     "output_type": "execute_result"
    }
   ],
   "source": [
    "colors = {\n",
    "    \"blue\":\"mavi\",\n",
    "    \"red\" : \"kırmızı\",\n",
    "    \"yellow\" : \"sarı\"\n",
    "\n",
    "}\n",
    "\n",
    "colors"
   ]
  },
  {
   "cell_type": "code",
   "execution_count": 14,
   "metadata": {},
   "outputs": [
    {
     "data": {
      "text/plain": [
       "'sarı'"
      ]
     },
     "execution_count": 14,
     "metadata": {},
     "output_type": "execute_result"
    }
   ],
   "source": [
    "colors[\"yellow\"]"
   ]
  },
  {
   "cell_type": "code",
   "execution_count": 16,
   "metadata": {},
   "outputs": [
    {
     "data": {
      "text/plain": [
       "dict_keys(['blue', 'red', 'yellow'])"
      ]
     },
     "execution_count": 16,
     "metadata": {},
     "output_type": "execute_result"
    }
   ],
   "source": [
    "#sözlükte yer alan tüm key değerlerine erişim\n",
    "colors.keys()"
   ]
  },
  {
   "cell_type": "code",
   "execution_count": 15,
   "metadata": {},
   "outputs": [
    {
     "data": {
      "text/plain": [
       "dict_values(['mavi', 'kırmızı', 'sarı'])"
      ]
     },
     "execution_count": 15,
     "metadata": {},
     "output_type": "execute_result"
    }
   ],
   "source": [
    "#sözlükte yer alan tüm value değerlerine erişim\n",
    "colors.values()"
   ]
  },
  {
   "cell_type": "code",
   "execution_count": 17,
   "metadata": {},
   "outputs": [
    {
     "data": {
      "text/plain": [
       "dict_items([('blue', 'mavi'), ('red', 'kırmızı'), ('yellow', 'sarı')])"
      ]
     },
     "execution_count": 17,
     "metadata": {},
     "output_type": "execute_result"
    }
   ],
   "source": [
    "#sözlükte yer alan tüm key-value değerlerine erişim\n",
    "colors.items()"
   ]
  },
  {
   "cell_type": "markdown",
   "metadata": {},
   "source": [
    "Döngü ile erişim"
   ]
  },
  {
   "cell_type": "code",
   "execution_count": 18,
   "metadata": {},
   "outputs": [
    {
     "name": "stdout",
     "output_type": "stream",
     "text": [
      "blue\n",
      "red\n",
      "yellow\n"
     ]
    }
   ],
   "source": [
    "for i in colors.keys():\n",
    "    print(i)"
   ]
  },
  {
   "cell_type": "code",
   "execution_count": 19,
   "metadata": {},
   "outputs": [
    {
     "name": "stdout",
     "output_type": "stream",
     "text": [
      "mavi\n",
      "kırmızı\n",
      "sarı\n"
     ]
    }
   ],
   "source": [
    "for i in colors.values():\n",
    "    print(i)"
   ]
  },
  {
   "cell_type": "code",
   "execution_count": 20,
   "metadata": {},
   "outputs": [
    {
     "name": "stdout",
     "output_type": "stream",
     "text": [
      "('blue', 'mavi')\n",
      "('red', 'kırmızı')\n",
      "('yellow', 'sarı')\n"
     ]
    }
   ],
   "source": [
    "for i in colors.items():\n",
    "    print(i)"
   ]
  },
  {
   "cell_type": "code",
   "execution_count": 21,
   "metadata": {},
   "outputs": [
    {
     "name": "stdout",
     "output_type": "stream",
     "text": [
      "key: blue --- value: mavi\n",
      "key: red --- value: kırmızı\n",
      "key: yellow --- value: sarı\n"
     ]
    }
   ],
   "source": [
    "for i in colors.items():\n",
    "    print(f\"key: {i[0]} --- value: {i[1]}\")"
   ]
  },
  {
   "cell_type": "code",
   "execution_count": 22,
   "metadata": {},
   "outputs": [
    {
     "name": "stdout",
     "output_type": "stream",
     "text": [
      "Sözlüğün uzunluğu:  3\n"
     ]
    }
   ],
   "source": [
    "print(\"Sözlüğün uzunluğu: \", len(colors))"
   ]
  },
  {
   "cell_type": "markdown",
   "metadata": {},
   "source": [
    "**Sözlüğe Eleman Ekleme**\n",
    "\n",
    "* key value atama işlemi ile\n",
    "* update methodu ile"
   ]
  },
  {
   "cell_type": "code",
   "execution_count": 23,
   "metadata": {},
   "outputs": [
    {
     "data": {
      "text/plain": [
       "{1998: 'Friends',\n",
       " 1991: 'Person of Interest',\n",
       " 1992: 'Heartland',\n",
       " 1993: 'Doctor Who'}"
      ]
     },
     "execution_count": 23,
     "metadata": {},
     "output_type": "execute_result"
    }
   ],
   "source": [
    "movies = {\n",
    "    1998: \"Friends\",\n",
    "    1991: \"Person of Interest\",\n",
    "    1992: \"Heartland\",\n",
    "    1993: \"Doctor Who\"\n",
    "}\n",
    "\n",
    "movies"
   ]
  },
  {
   "cell_type": "code",
   "execution_count": 24,
   "metadata": {},
   "outputs": [
    {
     "data": {
      "text/plain": [
       "{1998: 'Friends',\n",
       " 1991: 'Person of Interest',\n",
       " 1992: 'Heartland',\n",
       " 1993: 'Doctor Who',\n",
       " 1995: 'Harry Potter'}"
      ]
     },
     "execution_count": 24,
     "metadata": {},
     "output_type": "execute_result"
    }
   ],
   "source": [
    "movies[1995] = \"Harry Potter\"\n",
    "\n",
    "movies"
   ]
  },
  {
   "cell_type": "code",
   "execution_count": 27,
   "metadata": {},
   "outputs": [
    {
     "data": {
      "text/plain": [
       "{1998: 'Friends',\n",
       " 1991: 'Person of Interest',\n",
       " 1992: 'Heartland',\n",
       " 1993: 'The Big Bang Theory',\n",
       " 1995: 'Harry Potter',\n",
       " 1994: 'The Big Bang Theory'}"
      ]
     },
     "execution_count": 27,
     "metadata": {},
     "output_type": "execute_result"
    }
   ],
   "source": [
    "movies[1993] = \"The Big Bang Theory\"\n",
    "\n",
    "movies"
   ]
  },
  {
   "cell_type": "code",
   "execution_count": 28,
   "metadata": {},
   "outputs": [
    {
     "data": {
      "text/plain": [
       "{1998: 'Friends',\n",
       " 1991: 'Person of Interest',\n",
       " 1992: 'Heartland',\n",
       " 1993: \"The Queen's Gambit\",\n",
       " 1995: 'Harry Potter',\n",
       " 1994: 'The Big Bang Theory',\n",
       " 1996: 'Squid Game'}"
      ]
     },
     "execution_count": 28,
     "metadata": {},
     "output_type": "execute_result"
    }
   ],
   "source": [
    "movies.update({1996:\"Squid Game\", 1993:\"The Queen's Gambit\"})\n",
    "\n",
    "movies"
   ]
  },
  {
   "cell_type": "markdown",
   "metadata": {},
   "source": [
    "**Silme İşlemleri**\n",
    "\n",
    "* del key\n",
    "* clear()\n",
    "* del dict_name\n",
    "* popitem()\n",
    "* pop(key)"
   ]
  },
  {
   "cell_type": "code",
   "execution_count": 29,
   "metadata": {},
   "outputs": [
    {
     "data": {
      "text/plain": [
       "{'name': 'İrem',\n",
       " 'TCKN': 1323434212,\n",
       " 'starting date': 2019,\n",
       " 'title': 'AI&ML Engineer'}"
      ]
     },
     "execution_count": 29,
     "metadata": {},
     "output_type": "execute_result"
    }
   ],
   "source": [
    "personel_info = {\n",
    "    \"name\" : \"İrem\",\n",
    "    \"TCKN\" : 1323434212,\n",
    "    \"starting date\" : 2019,\n",
    "    \"title\" : \"AI&ML Engineer\"\n",
    "}\n",
    "\n",
    "personel_info"
   ]
  },
  {
   "cell_type": "code",
   "execution_count": 30,
   "metadata": {},
   "outputs": [
    {
     "data": {
      "text/plain": [
       "{'name': 'İrem', 'TCKN': 1323434212, 'title': 'AI&ML Engineer'}"
      ]
     },
     "execution_count": 30,
     "metadata": {},
     "output_type": "execute_result"
    }
   ],
   "source": [
    "#del key\n",
    "del personel_info[\"starting date\"]\n",
    "\n",
    "personel_info"
   ]
  },
  {
   "cell_type": "code",
   "execution_count": 31,
   "metadata": {},
   "outputs": [
    {
     "data": {
      "text/plain": [
       "{}"
      ]
     },
     "execution_count": 31,
     "metadata": {},
     "output_type": "execute_result"
    }
   ],
   "source": [
    "#clear\n",
    "personel_info.clear()\n",
    "\n",
    "personel_info"
   ]
  },
  {
   "cell_type": "code",
   "execution_count": 32,
   "metadata": {},
   "outputs": [
    {
     "ename": "NameError",
     "evalue": "name 'personel_info' is not defined",
     "output_type": "error",
     "traceback": [
      "\u001b[1;31m---------------------------------------------------------------------------\u001b[0m",
      "\u001b[1;31mNameError\u001b[0m                                 Traceback (most recent call last)",
      "Cell \u001b[1;32mIn [32], line 5\u001b[0m\n\u001b[0;32m      1\u001b[0m \u001b[38;5;66;03m#del dict_name\u001b[39;00m\n\u001b[0;32m      3\u001b[0m \u001b[38;5;28;01mdel\u001b[39;00m personel_info\n\u001b[1;32m----> 5\u001b[0m personel_info\n",
      "\u001b[1;31mNameError\u001b[0m: name 'personel_info' is not defined"
     ]
    }
   ],
   "source": [
    "#del dict_name\n",
    "\n",
    "del personel_info\n",
    "\n",
    "personel_info"
   ]
  },
  {
   "cell_type": "code",
   "execution_count": 2,
   "metadata": {},
   "outputs": [
    {
     "data": {
      "text/plain": [
       "{'name': 'İrem', 'TCKN': 1323434212, 'starting date': 2019}"
      ]
     },
     "execution_count": 2,
     "metadata": {},
     "output_type": "execute_result"
    }
   ],
   "source": [
    "#popitem\n",
    "personel_info = {\n",
    "    \"name\" : \"İrem\",\n",
    "    \"TCKN\" : 1323434212,\n",
    "    \"starting date\" : 2019,\n",
    "    \"title\" : \"AI&ML Engineer\"\n",
    "}\n",
    "\n",
    "personel_info.popitem()\n",
    "\n",
    "personel_info"
   ]
  },
  {
   "cell_type": "code",
   "execution_count": 3,
   "metadata": {},
   "outputs": [
    {
     "data": {
      "text/plain": [
       "{'name': 'İrem', 'starting date': 2019, 'title': 'AI&ML Engineer'}"
      ]
     },
     "execution_count": 3,
     "metadata": {},
     "output_type": "execute_result"
    }
   ],
   "source": [
    "#pop\n",
    "personel_info = {\n",
    "    \"name\" : \"İrem\",\n",
    "    \"TCKN\" : 1323434212,\n",
    "    \"starting date\" : 2019,\n",
    "    \"title\" : \"AI&ML Engineer\"\n",
    "}\n",
    "\n",
    "personel_info.pop(\"TCKN\")\n",
    "\n",
    "personel_info"
   ]
  },
  {
   "cell_type": "markdown",
   "metadata": {},
   "source": [
    "Bir anahtarın varlığını kontrol etme:"
   ]
  },
  {
   "cell_type": "code",
   "execution_count": 4,
   "metadata": {},
   "outputs": [
    {
     "data": {
      "text/plain": [
       "{'Adana:': 1,\n",
       " 'Antalya': 7,\n",
       " 'Kayseri': 38,\n",
       " 'İzmir': 35,\n",
       " 'Giresun': 28,\n",
       " 'İstanbul': 34}"
      ]
     },
     "execution_count": 4,
     "metadata": {},
     "output_type": "execute_result"
    }
   ],
   "source": [
    "cities = {\"Adana:\" : 1, \"Antalya\": 7, \"Kayseri\": 38, \"İzmir\": 35, \"Giresun\":28}\n",
    "\n",
    "if \"İstanbul\" not in cities.keys():\n",
    "    cities[\"İstanbul\"] = 34\n",
    "\n",
    "cities"
   ]
  },
  {
   "cell_type": "markdown",
   "metadata": {},
   "source": [
    "İki sözlüğü birleştirme işlemi\n",
    "\n",
    "* Update\n",
    "* ** ile"
   ]
  },
  {
   "cell_type": "code",
   "execution_count": 7,
   "metadata": {},
   "outputs": [
    {
     "name": "stdout",
     "output_type": "stream",
     "text": [
      "{'Adana:': 1, 'Antalya': 7, 'Kayseri': 38, 'İzmir': 35, 'Giresun': 28, 'Manisa': 45, 'Van': 65}\n",
      "{'Manisa': 45, 'Van': 65}\n"
     ]
    }
   ],
   "source": [
    "cities = {\"Adana:\" : 1, \"Antalya\": 7, \"Kayseri\": 38, \"İzmir\": 35, \"Giresun\":28}\n",
    "cities2 = {\"Manisa\":45, \"Van\":65}\n",
    "\n",
    "\n",
    "cities.update(cities2)\n",
    "\n",
    "print(cities)\n",
    "print(cities2)"
   ]
  },
  {
   "cell_type": "code",
   "execution_count": 9,
   "metadata": {},
   "outputs": [
    {
     "data": {
      "text/plain": [
       "{'Adana': 1,\n",
       " 'Antalya': 7,\n",
       " 'Kayseri': 38,\n",
       " 'İzmir': 35,\n",
       " 'Giresun': 28,\n",
       " 'Manisa': 45,\n",
       " 'Van': 65}"
      ]
     },
     "execution_count": 9,
     "metadata": {},
     "output_type": "execute_result"
    }
   ],
   "source": [
    "#iki sözlükte aynı key değeri varsa sonuncu girilen alınır\n",
    "cities = {\"Adana\" : 2, \"Antalya\": 7, \"Kayseri\": 38, \"İzmir\": 35, \"Giresun\":28}\n",
    "cities2 = {\"Manisa\":45, \"Van\":65, \"Adana\":1}\n",
    "\n",
    "new_cities = {**cities, **cities2}\n",
    "new_cities\n"
   ]
  },
  {
   "cell_type": "markdown",
   "metadata": {},
   "source": [
    "**Dictionary Kopyalama İşlemleri**\n",
    "\n",
    "* copy()\n",
    "* dict()\n",
    "* = operatörü"
   ]
  },
  {
   "cell_type": "code",
   "execution_count": 11,
   "metadata": {},
   "outputs": [],
   "source": [
    "sports = {\n",
    "    1: \"Voleybol\",\n",
    "    2: \"Basketbol\",\n",
    "    3: \"Tenis\",\n",
    "    4: \"Yüzme\",\n",
    "    5: \"Futbol\"\n",
    "}"
   ]
  },
  {
   "cell_type": "code",
   "execution_count": 13,
   "metadata": {},
   "outputs": [
    {
     "name": "stdout",
     "output_type": "stream",
     "text": [
      "{1: 'Voleybol', 2: 'Basketbol', 3: 'Tenis', 4: 'Yüzme', 5: 'Futbol', 6: 'Oryantiring'}\n",
      "{1: 'Voleybol', 2: 'Basketbol', 3: 'Tenis', 4: 'Yüzme', 5: 'Futbol'}\n"
     ]
    }
   ],
   "source": [
    "#copy\n",
    "copy_sports = sports.copy()\n",
    "\n",
    "copy_sports[6] = \"Oryantiring\"\n",
    "\n",
    "print(copy_sports)\n",
    "print(sports)"
   ]
  },
  {
   "cell_type": "code",
   "execution_count": 14,
   "metadata": {},
   "outputs": [
    {
     "name": "stdout",
     "output_type": "stream",
     "text": [
      "{1: 'Voleybol', 2: 'Basketbol', 3: 'Tenis', 4: 'Yüzme', 5: 'Futbol', 6: 'Oryantiring'}\n",
      "{1: 'Voleybol', 2: 'Basketbol', 3: 'Tenis', 4: 'Yüzme', 5: 'Futbol', 6: 'Oryantiring'}\n"
     ]
    }
   ],
   "source": [
    "# = atama operatörü ile\n",
    "new_sports = sports\n",
    "\n",
    "new_sports[6] = \"Oryantiring\"\n",
    "\n",
    "print(copy_sports)\n",
    "print(sports)\n",
    "\n",
    "#iki dict ekrana yazmak istediğimiz için print kullanmamız gerekiyor"
   ]
  },
  {
   "cell_type": "code",
   "execution_count": 16,
   "metadata": {},
   "outputs": [
    {
     "name": "stdout",
     "output_type": "stream",
     "text": [
      "{1: 'Voleybol', 2: 'Basketbol', 3: 'Tenis', 4: 'Yüzme', 5: 'Futbol', 6: 'Oryantiring'}\n",
      "{1: 'Voleybol', 2: 'Basketbol', 3: 'Tenis', 4: 'Yüzme', 5: 'Futbol'}\n"
     ]
    }
   ],
   "source": [
    "sports = {\n",
    "    1: \"Voleybol\",\n",
    "    2: \"Basketbol\",\n",
    "    3: \"Tenis\",\n",
    "    4: \"Yüzme\",\n",
    "    5: \"Futbol\"\n",
    "}\n",
    "\n",
    "# dict() ile\n",
    "dict_sports = dict(sports)\n",
    "\n",
    "dict_sports[6] = \"Oryantiring\"\n",
    "\n",
    "print(dict_sports)\n",
    "print(sports)\n"
   ]
  },
  {
   "cell_type": "markdown",
   "metadata": {},
   "source": [
    "**İç İçe Sözlükler**"
   ]
  },
  {
   "cell_type": "code",
   "execution_count": 18,
   "metadata": {},
   "outputs": [
    {
     "data": {
      "text/plain": [
       "{'name': 'Aysel',\n",
       " 'GSM': '5439720743',\n",
       " 'email': 'aysel.aydin@sisterslab.co',\n",
       " 'adres': {'adana': 'Merkez', 'İstanbul': 'Pendik', 'İş': 'Maltepe'}}"
      ]
     },
     "execution_count": 18,
     "metadata": {},
     "output_type": "execute_result"
    }
   ],
   "source": [
    "my_info = {\n",
    "    \"name\" : \"Aysel\",\n",
    "    \"GSM\": \"5439720743\",\n",
    "    \"email\" : \"aysel.aydin@sisterslab.co\",\n",
    "    \"adres\" : {\"adana\":\"Merkez\", \"İstanbul\": \"Pendik\", \"İş\": \"Maltepe\"}\n",
    "}\n",
    "\n",
    "my_info"
   ]
  },
  {
   "cell_type": "code",
   "execution_count": 19,
   "metadata": {},
   "outputs": [
    {
     "data": {
      "text/plain": [
       "'Pendik'"
      ]
     },
     "execution_count": 19,
     "metadata": {},
     "output_type": "execute_result"
    }
   ],
   "source": [
    "my_info[\"adres\"][\"İstanbul\"]\n",
    "\n",
    "#index ile erişilemediğinden, yalnızca key değerleri ile erişilebildiğinden 3. elemanı getir gibi yapamıyoruz"
   ]
  },
  {
   "cell_type": "code",
   "execution_count": 25,
   "metadata": {},
   "outputs": [
    {
     "name": "stdout",
     "output_type": "stream",
     "text": [
      "[2, 3, 4, 8, 9]\n",
      "[(2, 'Basketbol'), (3, 'Futbol'), (4, 'Yüzme'), (8, 'Tenis'), (9, 'Voleybol')]\n",
      "['Basketbol', 'Futbol', 'Tenis', 'Voleybol', 'Yüzme']\n"
     ]
    }
   ],
   "source": [
    "sports = {\n",
    "    9: \"Voleybol\",\n",
    "    2: \"Basketbol\",\n",
    "    8: \"Tenis\",\n",
    "    4: \"Yüzme\",\n",
    "    3: \"Futbol\"\n",
    "}\n",
    "\n",
    "print(sorted(sports.keys()))\n",
    "print(sorted(sports.items()))\n",
    "print(sorted(sports.values()))"
   ]
  },
  {
   "cell_type": "code",
   "execution_count": 27,
   "metadata": {},
   "outputs": [
    {
     "name": "stdout",
     "output_type": "stream",
     "text": [
      "[9, 8, 4, 3, 2]\n",
      "[(9, 'Voleybol'), (8, 'Tenis'), (4, 'Yüzme'), (3, 'Futbol'), (2, 'Basketbol')]\n",
      "['Yüzme', 'Voleybol', 'Tenis', 'Futbol', 'Basketbol']\n"
     ]
    }
   ],
   "source": [
    "print(sorted(sports.keys(), reverse = True))\n",
    "print(sorted(sports.items(), reverse = True))\n",
    "print(sorted(sports.values(), reverse = True))"
   ]
  },
  {
   "cell_type": "code",
   "execution_count": 28,
   "metadata": {},
   "outputs": [
    {
     "data": {
      "text/plain": [
       "{'hidrojen': 9, 'oksijen': 15, 'helyum': 8, 'karbon': 12}"
      ]
     },
     "execution_count": 28,
     "metadata": {},
     "output_type": "execute_result"
    }
   ],
   "source": [
    "#key değerlerinin uzunluğu kadar value değerine ekleme yapalım\n",
    "\n",
    "elements = {\n",
    "    \"hidrojen\" : 1,\n",
    "    \"oksijen\" : 8,\n",
    "    \"helyum\" : 2,\n",
    "    \"karbon\" : 6\n",
    "}\n",
    "\n",
    "for key, value in elements.items():\n",
    "    elements[key] = len(key) + value\n",
    "\n",
    "elements"
   ]
  },
  {
   "cell_type": "code",
   "execution_count": 29,
   "metadata": {},
   "outputs": [
    {
     "data": {
      "text/plain": [
       "{'Merve': 35, 'Emre': 38, 'Ayşe': 24, 'Asena': 27, 'Ezgi': 31}"
      ]
     },
     "execution_count": 29,
     "metadata": {},
     "output_type": "execute_result"
    }
   ],
   "source": [
    "my_dict1 = {\"Merve\": 35, \"Emre\": 27, \"Ayşe\": 24}\n",
    "my_dict2 = {\"Asena\": 27, \"Ezgi\": 31, \"Emre\": 38}\n",
    "\n",
    "new_dict = { **my_dict1, **my_dict2}\n",
    "\n",
    "new_dict "
   ]
  },
  {
   "cell_type": "code",
   "execution_count": 30,
   "metadata": {},
   "outputs": [
    {
     "data": {
      "text/plain": [
       "{'Merve': 35, 'Emre': 38, 'Ayşe': 24, 'Asena': 27, 'Ezgi': 31}"
      ]
     },
     "execution_count": 30,
     "metadata": {},
     "output_type": "execute_result"
    }
   ],
   "source": [
    "my_dict1.update(my_dict2)\n",
    "\n",
    "my_dict1"
   ]
  },
  {
   "cell_type": "code",
   "execution_count": 32,
   "metadata": {},
   "outputs": [
    {
     "data": {
      "text/plain": [
       "0"
      ]
     },
     "execution_count": 32,
     "metadata": {},
     "output_type": "execute_result"
    }
   ],
   "source": [
    "my_dict = {\"Python\" : {\"weeks\": {\"data_structures\": \"list\", \"dict\": {\"key\": 0, \"value\":1}}}}\n",
    "\n",
    "my_dict[\"Python\"][\"weeks\"][\"dict\"][\"key\"]"
   ]
  },
  {
   "cell_type": "code",
   "execution_count": 33,
   "metadata": {},
   "outputs": [
    {
     "data": {
      "text/plain": [
       "0"
      ]
     },
     "execution_count": 33,
     "metadata": {},
     "output_type": "execute_result"
    }
   ],
   "source": [
    "my_dict = {\"Python\" : \n",
    "    {\"weeks\": \n",
    "        {\"data_structures\": \"list\", \n",
    "        \"dict\": \n",
    "            {\n",
    "                \"key\": 0, \n",
    "                \"value\":1\n",
    "                }\n",
    "        }\n",
    "    }\n",
    "}\n",
    "\n",
    "my_dict[\"Python\"][\"weeks\"][\"dict\"][\"key\"]"
   ]
  },
  {
   "cell_type": "code",
   "execution_count": 34,
   "metadata": {},
   "outputs": [
    {
     "data": {
      "text/plain": [
       "{'Adana': 1, 'İstanbul': 34, 'Van': 65}"
      ]
     },
     "execution_count": 34,
     "metadata": {},
     "output_type": "execute_result"
    }
   ],
   "source": [
    "# iki listeyi birleştirip bir sözlük oluşturalım\n",
    "\n",
    "keys = [\"Adana\", \"İstanbul\", \"Van\"]\n",
    "values = [1, 34, 65]\n",
    "\n",
    "my_dict = {}\n",
    "\n",
    "for i in range(len(keys)):\n",
    "    my_dict.update({keys[i]:values[i]})\n",
    "\n",
    "my_dict"
   ]
  },
  {
   "cell_type": "code",
   "execution_count": 35,
   "metadata": {},
   "outputs": [
    {
     "data": {
      "text/plain": [
       "{'Adana': 1, 'İstanbul': 34, 'Van': 65}"
      ]
     },
     "execution_count": 35,
     "metadata": {},
     "output_type": "execute_result"
    }
   ],
   "source": [
    "keys = [\"Adana\", \"İstanbul\", \"Van\"]\n",
    "values = [1, 34, 65]\n",
    "\n",
    "my_dict = dict(zip(keys, values))\n",
    "\n",
    "my_dict"
   ]
  },
  {
   "cell_type": "code",
   "execution_count": 36,
   "metadata": {},
   "outputs": [
    {
     "data": {
      "text/plain": [
       "{'joey': 'Joey_Tribbiani',\n",
       " 'rachel': 'Rachel_Green',\n",
       " 'rose': 'Ross_Geller',\n",
       " 'monica': 'Monica_Geller',\n",
       " 'phoebe': 'Phoebe_Buffay',\n",
       " 'chandler': 'Chandler_Bing'}"
      ]
     },
     "execution_count": 36,
     "metadata": {},
     "output_type": "execute_result"
    }
   ],
   "source": [
    "friends = {\n",
    "    \"joey\" : \"Joey Tribbiani\",\n",
    "    \"rachel\" : \"Rachel Green\",\n",
    "    \"rose\" : \"Ross Geller\",\n",
    "    \"monica\": \"Monica Geller\",\n",
    "    \"phoebe\": \"Phoebe Buffay\",\n",
    "    \"chandler\": \"Chandler Bing\"\n",
    "}\n",
    "\n",
    "for key, value in friends.items():\n",
    "    friends.update({key:value.replace(\" \", \"_\")}) #gördüğün boşlukları alttireyle değiştir\n",
    "    #friends[key] = value.replace(\" \", \"_\").lower()\n",
    "    \n",
    "friends"
   ]
  }
 ],
 "metadata": {
  "kernelspec": {
   "display_name": "Python 3.10.2 64-bit",
   "language": "python",
   "name": "python3"
  },
  "language_info": {
   "codemirror_mode": {
    "name": "ipython",
    "version": 3
   },
   "file_extension": ".py",
   "mimetype": "text/x-python",
   "name": "python",
   "nbconvert_exporter": "python",
   "pygments_lexer": "ipython3",
   "version": "3.10.2"
  },
  "orig_nbformat": 4,
  "vscode": {
   "interpreter": {
    "hash": "26de051ba29f2982a8de78e945f0abaf191376122a1563185a90213a26c5da77"
   }
  }
 },
 "nbformat": 4,
 "nbformat_minor": 2
}
