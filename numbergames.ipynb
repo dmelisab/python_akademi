{
 "cells": [
  {
   "cell_type": "code",
   "execution_count": null,
   "metadata": {},
   "outputs": [],
   "source": [
    "#number guessing w/an error\n",
    "\n",
    "from configparser import SafeConfigParser\n",
    "from math import fabs\n",
    "from random import randint\n",
    "\n",
    "def guess(number):\n",
    "    user_number = int(input(\"Sayı tahmin oyunu için 1 ile 100 arasında bir sayı girin: \"))\n",
    "    while number != user_number:\n",
    "        if number < user_number:\n",
    "            print(\"Üzgünüm, daha küçük bir tahminde bulunmalısın.\")\n",
    "        else:\n",
    "            print(\"Üzgünüm daha büyük gerekiyor. \")\n",
    "        user_number = int(input(\"Başka bir sayı deneyin: \"))\n",
    "    else:\n",
    "        print(\"Tebrikler doğru tahmin! \")\n",
    "\n",
    "guess(randint(1,100))"
   ]
  },
  {
   "cell_type": "code",
   "execution_count": null,
   "metadata": {},
   "outputs": [],
   "source": [
    "#number guessing this one works\n",
    "\n",
    "\n",
    "from random import randint\n",
    "\n",
    "def guess(number):\n",
    "    user_number = int(input(\"Sayı tahmin oyunu için 1-100 arasında bir tahminde bulun\"))\n",
    "    while number != user_number:\n",
    "        if number < user_number:\n",
    "            print(\"üzgünüm, daha küçük bir tahminde bulunmalısın.\")\n",
    "        else:\n",
    "            print(\"Üzgünüm, daha büyük bir tahminde bulunmalısın\")\n",
    "        user_number = int(input(\"Lütfen, yeniden bir tahminde bulunun!\"))\n",
    "    else:\n",
    "        print(\"Tebrikler, doğru tahmin!\")\n",
    "\n",
    "guess(randint(1, 100))"
   ]
  },
  {
   "cell_type": "code",
   "execution_count": null,
   "metadata": {},
   "outputs": [],
   "source": [
    "#number guessing but this time the computer guesses\n",
    "\n",
    "import random\n",
    "\n",
    "def computer_guess(x):\n",
    "    start = 1\n",
    "    end = 100\n",
    "    result = \"\"\n",
    "    while result != \"d\":\n",
    "        guess = random.randint(start, end)\n",
    "\n",
    "        result = input(f\"{guess} değeri aklından tuttuğun değerden büyükse (b), küçükse (k), doğruysa (d) giriniz. \").lower()\n",
    "        if result == \"b\":\n",
    "            end = guess -1\n",
    "        elif result == \"k\":\n",
    "            start = guess +1\n",
    "    print(\"Tebrikler, doğru tahmin!\") #önceki kodda else de kullandık, burada \n",
    "    #yazmazsak da çalışır doğru bloktan başladığımız sürece\n",
    "    #anladığım kadarıyla\n",
    "\n",
    "\n",
    "computer_guess(20)"
   ]
  }
 ],
 "metadata": {
  "kernelspec": {
   "display_name": "Python 3.10.2 64-bit",
   "language": "python",
   "name": "python3"
  },
  "language_info": {
   "name": "python",
   "version": "3.10.2"
  },
  "orig_nbformat": 4,
  "vscode": {
   "interpreter": {
    "hash": "26de051ba29f2982a8de78e945f0abaf191376122a1563185a90213a26c5da77"
   }
  }
 },
 "nbformat": 4,
 "nbformat_minor": 2
}
